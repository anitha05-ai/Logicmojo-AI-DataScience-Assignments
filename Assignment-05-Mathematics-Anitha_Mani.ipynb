{
 "cells": [
  {
   "cell_type": "markdown",
   "id": "39e18a5e",
   "metadata": {},
   "source": [
    "# Assignment-5\n",
    "\n",
    "This notebook contains the questions to test the proficiency in `Mathematics for machine learning`.\n",
    "\n",
    "### Date: 16th June, 2025\n",
    "\n",
    "### Steps to solve and upload the assignment \n",
    "\n",
    "- Download the notebook in your local machine.\n",
    "- Solve the coding questions in the notebook and save it.\n",
    "- Rename the file as `Assignment-05-<your_name>_<your_surname>.ipynb`. For example if your name is Dipika Chopra then name the file as `Assignment-05-Dipika_Chopra.ipynb`.\n",
    "- For numerical problems you can either solve the same using `LaTeX` in markdown cell of your soluton notebook or you can solve it on paper and upload the scan pdf copy of the solution.\n",
    "- If you are solving it on paper then name the pdf file of the scan copy of the solution as `Assignment-05-<your_name>_<your_surname>.pdf`. For example if your name is Akash Kumar then name the file as `Assignment-05-Akash_Kumar.pdf`.\n",
    "- Upload the solved notebook and the scanned pdf copy of the solutions in the google drive location: https://drive.google.com/drive/folders/1rlxuCIMhIk3qIM4BIWGjTwe7o6pojKKS?usp=drive_link\n",
    "<h3><span style=\"color:red\"> Deadline: 4th July, 2025 </span></h3>"
   ]
  },
  {
   "cell_type": "markdown",
   "id": "3060d16c",
   "metadata": {},
   "source": [
    "<h5><span style=\"color:blue\"> <b>Instructions:</b> Please answer all the questions. For problems requiring numerical solutions, you are encouraged to write code in Python to compute the results. Show your steps and explain your reasoning. </span></h5>"
   ]
  },
  {
   "cell_type": "markdown",
   "id": "2b5b5a63",
   "metadata": {},
   "source": [
    "### Problem-1\n",
    "\n",
    "In a network, data packets are sent through a shared channel. Suppose there are 10 devices attempting to send data. In any given time slot, each device has a 20% chance of attempting to send a packet, independently of other devices. A collision occurs if two or more devices attempt to send a packet in the same time slot. What is the probability that in a given time slot, there will be no collisions?"
   ]
  },
  {
   "cell_type": "code",
   "execution_count": null,
   "id": "99806579",
   "metadata": {
    "vscode": {
     "languageId": "latex"
    }
   },
   "outputs": [],
   "source": [
    "######solution\n",
    "Given :\n",
    "20% chances to send packet\n",
    "collision occurs if 2 or more devices send a packet\n",
    "\n",
    "P(0 device sending a packet) = (0.80)**10 = 0.10737418240000006\n",
    "P(1 device sending a packet) = 10* (0.20) * (0.80)**9 = 0.2684354560000001\n",
    "\n",
    "\n",
    "P(No collision) = P(0 device sending pkt)+ P(1 device sending pkt) = 0.3758\n",
    "\n",
    "Probability ( No collision ) = 0.3758"
   ]
  },
  {
   "cell_type": "code",
   "execution_count": 6,
   "id": "445199aa",
   "metadata": {},
   "outputs": [
    {
     "name": "stdout",
     "output_type": "stream",
     "text": [
      "0.10737418240000006\n"
     ]
    }
   ],
   "source": [
    "a = (0.80)**10\n",
    "print(a)\n"
   ]
  },
  {
   "cell_type": "code",
   "execution_count": 5,
   "id": "69917037",
   "metadata": {},
   "outputs": [
    {
     "data": {
      "text/plain": [
       "0.2684354560000001"
      ]
     },
     "execution_count": 5,
     "metadata": {},
     "output_type": "execute_result"
    }
   ],
   "source": [
    "\n",
    "b = 10* (0.20) * (0.80)**9\n",
    "b"
   ]
  },
  {
   "cell_type": "code",
   "execution_count": null,
   "id": "970dfff2",
   "metadata": {},
   "outputs": [
    {
     "data": {
      "text/plain": [
       "0.3758096384000002"
      ]
     },
     "execution_count": 14,
     "metadata": {},
     "output_type": "execute_result"
    }
   ],
   "source": [
    "a = (0.80)**10\n",
    "b =10* (0.20) * (0.80)**9\n",
    "a+b"
   ]
  },
  {
   "cell_type": "markdown",
   "id": "7a96749a",
   "metadata": {},
   "source": [
    "### Problem-2\n",
    "\n",
    "A system uses 8-character passwords. Each character can be any lowercase letter (a-z), uppercase letter (A-Z), or digit (0-9).\n",
    "What is the probability that a randomly generated 8-character password contains at least one digit, given that character repetition is allowed?"
   ]
  },
  {
   "cell_type": "code",
   "execution_count": null,
   "id": "1975f4b2",
   "metadata": {
    "vscode": {
     "languageId": "latex"
    }
   },
   "outputs": [],
   "source": [
    "######solution\n",
    "Given :\n",
    "8 char pwd \n",
    "no. of lower case characters = 26\n",
    "no. of upper case characters = 26\n",
    "no of digits = 10\n",
    "\n",
    "P(atleast 1 digit of 8 char pwd ) ?\n",
    "Total choices = 26+26+10 = 62\n",
    "\n",
    "Total passwords = 62**8 ( with repetition) = 218340105584896\n",
    "\n",
    "Passwords without digit = 52**8 ( with repetition) = 53459728531456\n",
    "P(Passwords without digit) = (52**8) / (62**8) = 0.2448\n",
    "\n",
    "P(Password with atleast 1 digit) = 1 - P(Passwords without digit) =\n",
    "= 1 - 0.2448 = 0.7552"
   ]
  },
  {
   "cell_type": "code",
   "execution_count": 9,
   "id": "883eb173",
   "metadata": {
    "vscode": {
     "languageId": "latex"
    }
   },
   "outputs": [
    {
     "data": {
      "text/plain": [
       "218340105584896"
      ]
     },
     "execution_count": 9,
     "metadata": {},
     "output_type": "execute_result"
    }
   ],
   "source": [
    "62**8"
   ]
  },
  {
   "cell_type": "code",
   "execution_count": 10,
   "id": "2cf0aa42",
   "metadata": {
    "vscode": {
     "languageId": "latex"
    }
   },
   "outputs": [
    {
     "data": {
      "text/plain": [
       "53459728531456"
      ]
     },
     "execution_count": 10,
     "metadata": {},
     "output_type": "execute_result"
    }
   ],
   "source": [
    "52**8"
   ]
  },
  {
   "cell_type": "code",
   "execution_count": 11,
   "id": "2ee31f36",
   "metadata": {},
   "outputs": [
    {
     "data": {
      "text/plain": [
       "0.2448461238408147"
      ]
     },
     "execution_count": 11,
     "metadata": {},
     "output_type": "execute_result"
    }
   ],
   "source": [
    "53459728531456/218340105584896"
   ]
  },
  {
   "cell_type": "code",
   "execution_count": 13,
   "id": "005b263a",
   "metadata": {},
   "outputs": [
    {
     "name": "stdout",
     "output_type": "stream",
     "text": [
      "0.7551538761591853\n"
     ]
    }
   ],
   "source": [
    "Total_passwords = 62**8\n",
    "Passwords_without_digit = 52**8\n",
    "\n",
    "Prob_Passwords_without_digit = Passwords_without_digit/Total_passwords\n",
    "prob_pwd_atleast1digit = 1- Prob_Passwords_without_digit\n",
    "print(prob_pwd_atleast1digit)"
   ]
  },
  {
   "cell_type": "markdown",
   "id": "b8f8f841",
   "metadata": {},
   "source": [
    "### Problem-3\n",
    "\n",
    "A software project has two modules, A and B. The probability that module A has a bug is 0.15, and the probability that module B has a bug is 0.10. The probability that both modules have bugs is 0.03.\n",
    "\n",
    "(a) What is the probability that module A has a bug, given that module B has a bug?\n",
    "\n",
    "(b) What is the probability that module B has a bug, given that module A does not have a bug?"
   ]
  },
  {
   "cell_type": "code",
   "execution_count": null,
   "id": "e34bc6cb",
   "metadata": {
    "vscode": {
     "languageId": "latex"
    }
   },
   "outputs": [],
   "source": [
    "\n",
    "###########Solution\n",
    "P(A with bug ) = 0.15 (given)\n",
    "P(A without bug)  = 0.85 ( A complement )\n",
    "P( B with bug) = 0.10\n",
    "P(B without bug) = 0.90 (  B complement)\n",
    "P( A and B)= 0.03 (A intersection B)\n",
    "\n",
    "a) P( A given B) - conditional probability\n",
    "    P(A/B) = P(A and B)/P(B) \n",
    "        = 0.03/0.10 = 0.3\n",
    "-----------------------------------\n",
    "b) P(B given A')  = ? \n",
    "calculate P( B and A') = P(B) - P(A and B) = 0.10 - 0.03\n",
    "P(B given A')  = P( B and A')/P(A') \n",
    "                   =  (0.10-0.03)/0.85\n",
    "                   = 0.0823\n"
   ]
  },
  {
   "cell_type": "code",
   "execution_count": 1,
   "id": "4318a75f",
   "metadata": {},
   "outputs": [
    {
     "name": "stdout",
     "output_type": "stream",
     "text": [
      "Probability of Module A has bug |given Module B has bug : 0.3\n",
      "Probability of Module B has bug |given Module A does not have a bug : 0.0824\n"
     ]
    }
   ],
   "source": [
    "P_A_and_B = 0.03\n",
    "P_A = 0.15\n",
    "P_B = 0.10\n",
    "P_Acomp = 1- P_A\n",
    "P_A_given_B = P_A_and_B/P_B\n",
    "print(f\"Probability of Module A has bug |given Module B has bug :\",P_A_given_B )\n",
    "P_B_given_Acomp = (P_B - P_A_and_B)/P_Acomp\n",
    "print(f\"Probability of Module B has bug |given Module A does not have a bug :\",round(P_B_given_Acomp,4))\n"
   ]
  },
  {
   "cell_type": "markdown",
   "id": "05e5fb69",
   "metadata": {},
   "source": [
    "### Problem-4\n",
    "\n",
    "A robot uses a sensor to detect an obstacle. The sensor has a 95% chance of correctly detecting an obstacle when one is present (true positive rate). However, it also has a 2% chance of indicating an obstacle when there isn't one (false positive rate).\n",
    "In the robot's environment, obstacles are present 10% of the time.\n",
    "\n",
    "What is the probability that an obstacle is truly present, given that the sensor indicates an obstacle?"
   ]
  },
  {
   "cell_type": "code",
   "execution_count": null,
   "id": "3465635f",
   "metadata": {
    "vscode": {
     "languageId": "latex"
    }
   },
   "outputs": [],
   "source": [
    "######solution\n",
    "Given :\n",
    "A = obstacle is truly present\n",
    "B = sensor detects obstacle\n",
    "TPR = True positive Rate\n",
    "FPR = False Positive Rate\n",
    "\n",
    "P(A) = 0.10\n",
    "P(B) = (TPR * 0.10) + (FPR * 0.90) = 0.113\n",
    "P(A/B) = (P(B/A)* P(A))/P(B) [Bayer's theorem]"
   ]
  },
  {
   "cell_type": "code",
   "execution_count": 20,
   "id": "10dde635",
   "metadata": {},
   "outputs": [
    {
     "name": "stdout",
     "output_type": "stream",
     "text": [
      "0.113\n",
      "Probability of obstacle|sensor detects obstacle is : 0.8407\n"
     ]
    }
   ],
   "source": [
    "P_A  = 0.10\n",
    "P_B_given_A = 0.95\n",
    "P_B = (0.95 * 0.10)+ (0.02*0.90)\n",
    "print(P_B)\n",
    "P_A_given_B  = (0.95 * 0.10)/P_B\n",
    "print(f\"Probability of obstacle|sensor detects obstacle is :\",round(P_A_given_B,4))"
   ]
  },
  {
   "cell_type": "markdown",
   "id": "d1540bbd",
   "metadata": {},
   "source": [
    "### Problem-5\n",
    "\n",
    "A spam filter uses a keyword \"money\" to identify spam emails.\n",
    "- 10% of all emails are spam.\n",
    "- If an email is spam, the word \"money\" appears in it 80% of the time.\n",
    "- If an email is not spam, the word \"money\" appears in it 5% of the time.\n",
    "\n",
    "If an email contains the word \"money\", what is the probability that it is spam?"
   ]
  },
  {
   "cell_type": "code",
   "execution_count": null,
   "id": "54f59fa6",
   "metadata": {
    "vscode": {
     "languageId": "latex"
    }
   },
   "outputs": [],
   "source": [
    "######solution\n",
    "Given:\n",
    "P(A) = 0.10\n",
    "P(A') = 0.90\n",
    "P(B) = (P(A) * 0.80) + (P(A') * 0.05)\n",
    "P(A/B)  = (P(A)* P(B/A))/P(B)\n"
   ]
  },
  {
   "cell_type": "code",
   "execution_count": 19,
   "id": "afb228ad",
   "metadata": {},
   "outputs": [
    {
     "name": "stdout",
     "output_type": "stream",
     "text": [
      "0.125\n",
      "Probability of spam email containing money is : 0.64\n"
     ]
    }
   ],
   "source": [
    "P_A  = 0.10\n",
    "P_Acomp = 0.90\n",
    "P_B_given_A = 0.95\n",
    "P_B = (P_A * 0.80)+ (P_Acomp * 0.05)\n",
    "print(round(P_B,4))\n",
    "P_A_given_B  = (0.10 * 0.80)/P_B\n",
    "print(f\"Probability of spam email containing money is :\",P_A_given_B)"
   ]
  },
  {
   "cell_type": "markdown",
   "id": "cfbf13b7",
   "metadata": {},
   "source": [
    "### Problem-6\n",
    "\n",
    "A rare disease affects 1 in 10,000 people. A diagnostic test for this disease has a 99% true positive rate (correctly identifies the disease when present) and a 0.5% false positive rate (incorrectly indicates the disease when not present).\n",
    "\n",
    "If a randomly selected person tests positive for the disease, what is the probability that they actually have the disease?"
   ]
  },
  {
   "cell_type": "code",
   "execution_count": null,
   "id": "aa53d086",
   "metadata": {
    "vscode": {
     "languageId": "latex"
    }
   },
   "outputs": [],
   "source": [
    "######solution\n",
    "Given:\n",
    "P(A) = 1/10000 = 0.0001\n",
    "P(A') = 1 - 0.0001 = 0.9999\n",
    "TPR = 0.99\n",
    "FPR = 0.5/100 = 0.005\n",
    "\n",
    "Use formula \n",
    "P(B) = (TPR * P(A)) + (FPR * P(A')) \n",
    "P(A/B)  = (P(A)* P(B/A))/P(B)"
   ]
  },
  {
   "cell_type": "code",
   "execution_count": 17,
   "id": "8732dfa6",
   "metadata": {},
   "outputs": [
    {
     "name": "stdout",
     "output_type": "stream",
     "text": [
      "0.0051\n",
      "Probability of random person having disease is : 0.0194\n"
     ]
    }
   ],
   "source": [
    "\n",
    "P_A  = 0.0001\n",
    "P_Acomp = 1 - P_A\n",
    "P_B_given_A = 0.99\n",
    "TPR = 0.99\n",
    "FPR  = 0.005\n",
    "\n",
    "P_B = (TPR * P_A)+ (FPR* P_Acomp)\n",
    "print(round(P_B,4))\n",
    "P_A_given_B  = (P_B_given_A * P_A)/P_B\n",
    "print(f\"Probability of random person having disease is :\",round(P_A_given_B,4))"
   ]
  },
  {
   "cell_type": "markdown",
   "id": "c8efd95f",
   "metadata": {},
   "source": [
    "### Problem-7\n",
    "\n",
    "A batch of 500 microchips is produced. The probability that a single microchip is defective is 0.02.\n",
    "Let X be the number of defective microchips in a random sample of 20 microchips from this batch. Assume the sample is taken with replacement, or the batch is large enough that we can model this as independent trials.\n",
    "\n",
    "(a) What is the probability that exactly 3 microchips in the sample are defective?\n",
    "(b) What is the probability that at least 2 microchips in the sample are defective?"
   ]
  },
  {
   "cell_type": "code",
   "execution_count": null,
   "id": "ae9b283a",
   "metadata": {
    "vscode": {
     "languageId": "latex"
    }
   },
   "outputs": [],
   "source": [
    "######solution\n",
    "Given: \n",
    "P(Chip being defective)= 0.02\n",
    "p(chip not defective)= 1 - 0.02 = 0.98\n",
    "\n",
    "p(X=3)  = 20 C 3 *(0.02)**3 * (0.98)**17\n",
    "\n",
    "P(X>=2) = 1 -P(X<2)\n",
    "        = 1 -(P(X=0)+ P(X=1))\n",
    "        =  1 - ((20 C 0) + 20 C 1 * (0.02)**1 * (0.98)**19)"
   ]
  },
  {
   "cell_type": "code",
   "execution_count": 5,
   "id": "cb94a664",
   "metadata": {},
   "outputs": [
    {
     "name": "stdout",
     "output_type": "stream",
     "text": [
      "Probability of exactly 3 microchips in the sample are defective: 0.0065\n",
      "Probability that at least 2 microchips in the sample are defective: 0.0599\n"
     ]
    }
   ],
   "source": [
    "from scipy.stats import binom\n",
    "n = 20\n",
    "p = 0.02\n",
    "prob_3 = binom.pmf(3, n, p)\n",
    "\n",
    "print(f\"Probability of exactly 3 microchips in the sample are defective:\",round(prob_3,4))\n",
    "\n",
    "prob_atleast2 = 1- (binom.pmf(0, n, p)+binom.pmf(1, n, p))\n",
    "print(f\"Probability that at least 2 microchips in the sample are defective:\", round(prob_atleast2,4))\n"
   ]
  },
  {
   "cell_type": "markdown",
   "id": "d881d902",
   "metadata": {},
   "source": [
    "### Problem-8\n",
    "\n",
    "The time (in hours) until a critical server component fails follows an exponential distribution with a mean of 500 hours.\n",
    "\n",
    "(a) What is the probability that the component will last between 400 and 600 hours?\n",
    "\n",
    "(b) The component has already been running for 300 hours without failure. What is the probability that it will last for at least another 250 hours?"
   ]
  },
  {
   "cell_type": "code",
   "execution_count": null,
   "id": "1293b4f1",
   "metadata": {
    "vscode": {
     "languageId": "latex"
    }
   },
   "outputs": [],
   "source": [
    "Mean = 500 hrs \n",
    "a) P(400 <= X <=600) = P(X<=600)- P(X<=400)\n",
    "b) atleast another 250 hrs = P(X>=250) =  1 - P(X<250) = 1- 1-e**(lambda*250)  = -e**(lambda*250)\n",
    "[Exponential Distribution is memoryless, hence already running 300 hrs is not considered.]\n"
   ]
  },
  {
   "cell_type": "code",
   "execution_count": 11,
   "id": "adf4bb55",
   "metadata": {},
   "outputs": [
    {
     "name": "stdout",
     "output_type": "stream",
     "text": [
      "0.002\n",
      "Probability between 400 and 600 hours:0.1481\n",
      "Probability atleast 250 hours:0.6065\n"
     ]
    }
   ],
   "source": [
    "import math\n",
    "\n",
    "mean = 500\n",
    "lambda1 = 1/mean\n",
    "x =( 1  - math.exp(-lambda1 *600) ) - (1 - math.exp(-lambda1 *400))\n",
    "print(lambda1)\n",
    "print(f\"Probability between 400 and 600 hours:{x:.4f}\")\n",
    "\n",
    "y = (math.exp(-lambda1 * 250))\n",
    "print(f\"Probability atleast 250 hours:{y:.4f}\")"
   ]
  },
  {
   "cell_type": "markdown",
   "id": "94a87f03",
   "metadata": {},
   "source": [
    "### Problem-9\n",
    "\n",
    "The noise in a sensor's reading can be modeled by a Gaussian (Normal) distribution with a mean of 0 (bias) and a standard deviation of 0.5 units.\n",
    "\n",
    "(a) What is the probability that a sensor reading's noise is between -0.2 and 0.3 units?\n",
    "\n",
    "(b) If a reading is considered an \"outlier\" if its noise is more than 1.5 standard deviations away from the mean, what is the probability that a random reading is an outlier?"
   ]
  },
  {
   "cell_type": "code",
   "execution_count": null,
   "id": "58d796dc",
   "metadata": {
    "vscode": {
     "languageId": "latex"
    }
   },
   "outputs": [],
   "source": [
    "### Solution\n",
    "mu = 0 \n",
    "sd = 0.5\n",
    "Z = (x- mu)/sd\n",
    "a) calculate Z1(x= -0.2)  and Z2(x = 0.3)\n",
    "Find Zscore and Z2- Z1\n",
    "\n",
    "b) calculate P(|Z>|>1.5)\n",
    " =  P(Z >1.5 )+ P(Z>-1.5)"
   ]
  },
  {
   "cell_type": "code",
   "execution_count": 3,
   "id": "fa445587",
   "metadata": {},
   "outputs": [
    {
     "name": "stdout",
     "output_type": "stream",
     "text": [
      "probability of sensor reading's noise is between -0.2 and 0.3 is  0.38117\n",
      "probability that a random reading is an outlier is  0.13362\n"
     ]
    }
   ],
   "source": [
    "mu = 0 \n",
    "sd = 0.5\n",
    "Z1 = (-0.2 -mu)/sd\n",
    "#print(Z1)\n",
    "\n",
    "Z2 = (0.3 -mu)/sd\n",
    "#print(Z2)\n",
    "\n",
    "# using Z score table \n",
    "# Z2 - Z1\n",
    "a = 0.72575-0.34458\n",
    "print(f\"probability of sensor reading's noise is between -0.2 and 0.3 is \",a)\n",
    "\n",
    "# calculate P(|Z>|>1.5)\n",
    "# P(Z >1.5 )+ P(Z>-1.5)\n",
    "# using z score table\n",
    "b = 0.06681 + 0.06681\n",
    "print(f\"probability that a random reading is an outlier is \",b)\n"
   ]
  },
  {
   "cell_type": "markdown",
   "id": "78f10b6f",
   "metadata": {},
   "source": [
    "### Problem-10\n",
    "\n",
    "The latency (delay) in a specific network segment is observed to be normally distributed with a mean of 150 ms and a standard deviation of 20 ms.\n",
    "\n",
    "(a) What is the probability that a data packet experiences a latency greater than 180 ms?\n",
    "\n",
    "(b) Due to new QoS (Quality of Service) requirements, 90% of packets must arrive within a certain latency threshold. What is this threshold (in ms)?\n",
    "\n",
    "(c) If a network engineer defines \"critical latency\" as any latency exceeding 2.5 standard deviations above the mean, what is the probability that a packet experiences critical latency?"
   ]
  },
  {
   "cell_type": "code",
   "execution_count": 13,
   "id": "1e4e87fb",
   "metadata": {},
   "outputs": [
    {
     "name": "stdout",
     "output_type": "stream",
     "text": [
      "1.5\n",
      "probability latency greater than 180 is  0.06681\n",
      "New Threshold is 175.6 ms\n",
      "probability packet experiences critical latency 200.0 ms\n"
     ]
    }
   ],
   "source": [
    "mu = 150 \n",
    "sd = 20\n",
    "x = 180\n",
    "#P(X>180) \n",
    "#Calculate Z = (x- mu)/sd\n",
    "Z = (x - mu)/sd\n",
    "print(Z)\n",
    "\n",
    "#using zscore table \n",
    "Zscore = 0.06681\n",
    "print(f\"probability latency greater than 180 is \",Zscore)\n",
    "\n",
    "# Zscore(0.9000) is 1.28 \n",
    "x1 = 1.28*20 + 150\n",
    "#print(x1)\n",
    "print(f\"New Threshold is {x1} ms\")\n",
    "\n",
    "# Z or crtical_latency = 2.5\n",
    "x2 = (2.5 * 20)  + 150\n",
    "#print(x2)\n",
    "print(f\"probability packet experiences critical latency {x2} ms\")"
   ]
  },
  {
   "cell_type": "markdown",
   "id": "130b34aa",
   "metadata": {},
   "source": [
    "### Problem-11\n",
    "\n",
    "The lifespan of a certain electronic component, due to manufacturing variations, is normally distributed with a mean of 2500 hours and a standard deviation of 300 hours.\n",
    "\n",
    "(a) A customer requires components that last at least 2000 hours. What percentage of manufactured components meet this requirement?\n",
    "\n",
    "(b) The manufacturer wants to provide a warranty such that only 1% of components fail before the warranty period ends. What should be the warranty period (in hours)?\n",
    "\n",
    "(c) If a batch of 10,000 components is produced, how many components are expected to have a lifespan between 2200 and 2800 hours?"
   ]
  },
  {
   "cell_type": "code",
   "execution_count": 31,
   "id": "baed7497",
   "metadata": {},
   "outputs": [
    {
     "name": "stdout",
     "output_type": "stream",
     "text": [
      "-1.667\n",
      "percentage of manufactured components meet this requirement is 95.25%\n",
      "warranty period should be 1801 hrs\n",
      "1.0\n",
      "-1.0\n",
      "No. of components expected to have a lifespan between 2200 and 2800 hours is 6826\n"
     ]
    }
   ],
   "source": [
    "mu = 2500\n",
    "sd = 300\n",
    "x = 2000\n",
    "#P(X>2000) \n",
    "#Calculate Z = (x- mu)/sd\n",
    "Z = (x - mu)/sd\n",
    "print(round(Z,3))\n",
    "\n",
    "#using Z score table \n",
    "#Zscore(-1.667) = 0.0475\n",
    "a =  1- 0.0475 # area under z- table curve\n",
    "print(f\"percentage of manufactured components meet this requirement is {a*100}%\")\n",
    "\n",
    "#Zscore for 0.01 = -2.33 ( only 1% fail)\n",
    "x = (-2.33 * sd)+mu\n",
    "print(f\"warranty period should be {round(x)} hrs\")\n",
    "\n",
    "l1 = 2800\n",
    "l2 = 2200\n",
    "Z1 = (l1 - mu)/sd\n",
    "print(Z1)\n",
    "\n",
    "Z2 = (l2 - mu)/sd\n",
    "print(Z2)\n",
    "\n",
    "#Z score diff\n",
    "diff = 0.8413 - 0.1587\n",
    "print(f\"No. of components expected to have a lifespan between 2200 and 2800 hours is {round(diff*10000)}\")\n",
    "\n"
   ]
  },
  {
   "cell_type": "markdown",
   "id": "b3760971",
   "metadata": {},
   "source": [
    "### Problem-12\n",
    "The probability density function (pdf) of the triangular distribution is characterized by three points as shown in the figure below.\n",
    "\n",
    "<img src=\"https://upload.wikimedia.org/wikipedia/commons/4/45/Triangular_distribution_PMF.png\" alt=\"triangular distribution\" width=\"500\"/>\n",
    "\n",
    "(a) min value of the distribution,\n",
    "(b) max value of the distribution, and\n",
    "(c) mode of the distribution\n",
    "\n",
    "Note: $a \\leq c \\leq b$\n",
    "\n",
    "Create a class `TriangularDistribution` with attributes `min`, `max` and `mode`. You need to implement the following methods:\n",
    "\n",
    "- `pdf(x)`: returns the value of the pdf at point $x$.\n",
    "- `plot_pdf()`: plots the pdf in the range $[min , max]$\n",
    "- `cdf(x)`: returns the value of the cdf at point $x$ ; which denotes $P(X \\leq x)$\n",
    "- `plot_cdf()`: plots the cdf in the range $[min , max]$\n",
    "- `get_probability(x1, x2)`: returns the probability $P(x_1 \\leq X \\leq x_2)$, where $x_1 \\lt x_2$.\n",
    "\n",
    "Gracefully handle the possible errors and also the edge conditions when either $ a = c $ or $b = c$ in the distribution.\n",
    "\n",
    "Test your implementation."
   ]
  },
  {
   "cell_type": "code",
   "execution_count": null,
   "id": "8f4ea890",
   "metadata": {},
   "outputs": [
    {
     "name": "stdout",
     "output_type": "stream",
     "text": [
      "PDF at x = 15: 0.08\n"
     ]
    },
    {
     "data": {
      "image/png": "[encoded data removed]",
      "text/plain": [
       "<Figure size 640x480 with 1 Axes>"
      ]
     },
     "metadata": {},
     "output_type": "display_data"
    },
    {
     "data": {
      "image/png": "[encoded data removed]",
      "text/plain": [
       "<Figure size 640x480 with 1 Axes>"
      ]
     },
     "metadata": {},
     "output_type": "display_data"
    },
    {
     "name": "stdout",
     "output_type": "stream",
     "text": [
      "CDF at x = 15: 0.6\n",
      " Probability between 5 and 20= 0.8333\n"
     ]
    }
   ],
   "source": [
    "### Write your code here\n",
    "import numpy as np\n",
    "from scipy.stats import norm\n",
    "import matplotlib.pyplot as plt\n",
    "\n",
    "class TriangularDistribution:\n",
    "    def __init__(self, min, max, mode):\n",
    "        self.min = min\n",
    "        self.max = max\n",
    "        self.mode = mode\n",
    "\n",
    "    def pdf(self,x):\n",
    "        a= self.min\n",
    "        b = self.max\n",
    "        c = self.mode\n",
    "        if x < a or x > b:\n",
    "            return 0.0\n",
    "        elif a == c:\n",
    "            return 2 * (b - x) / ((b - a) * (b - c)) if a < x <= b else 0.0\n",
    "        elif b == c:\n",
    "            return 2 * (x - a) / ((b - a) * (c - a)) if a <= x < b else 0.0\n",
    "        elif a <= x < c:\n",
    "            return 2 * (x - a) / ((b - a) * (c - a))\n",
    "        elif x == c:\n",
    "            return 2 / (b - a)\n",
    "        else:  # c < x <= b\n",
    "            return 2 * (b - x) / ((b - a) * (b - c))\n",
    "    \n",
    "    def plot_pdf(self, num=1000):\n",
    "        x = np.linspace(self.min, self.max, num)\n",
    "        y = [self.pdf(val) for val in x]\n",
    "        #plt.figure(figsize=(8, 4))\n",
    "        plt.plot(x, y, label=\"PDF\", color='red')\n",
    "        plt.title(\"Triangular Distribution - PDF\")\n",
    "        plt.xlabel(\"x\")\n",
    "        plt.ylabel(\"pdf(x)\")\n",
    "        plt.grid(True)\n",
    "        plt.legend()\n",
    "        plt.show()\n",
    "\n",
    "    def cdf(self,x):\n",
    "        a= self.min\n",
    "        b = self.max\n",
    "        c = self.mode\n",
    "\n",
    "        if x <= a:\n",
    "            return 0.0\n",
    "        elif x >= b:\n",
    "            return 1.0\n",
    "        elif a == c:\n",
    "            return 1 - ((b - x) ** 2) / ((b - a) * (b - c))\n",
    "        elif b == c:\n",
    "            return ((x - a) ** 2) / ((b - a) * (c - a))\n",
    "        elif x < c:\n",
    "            return ((x - a) ** 2) / ((b - a) * (c - a))\n",
    "        else:  # x >= c\n",
    "            return 1 - ((b - x) ** 2) / ((b - a) * (b - c))\n",
    "        \n",
    "    def get_probability(self, x1, x2):\n",
    "        if x1 >= x2:\n",
    "            raise ValueError(\"x1 must be less than x2.\")\n",
    "        return round(self.cdf(x2) - self.cdf(x1),4)\n",
    "\n",
    "    def plot_cdf(self, num=1000):\n",
    "        x = np.linspace(self.min, self.max, num)\n",
    "        y = [self.cdf(val) for val in x]\n",
    "        #plt.figure(figsize=(8, 4))\n",
    "        plt.plot(x, y, label=\"CDF\", color='blue')\n",
    "        plt.title(\"Triangular Distribution - CDF\")\n",
    "        plt.xlabel(\"x\")\n",
    "        plt.ylabel(\"cdf(x)\")\n",
    "        plt.grid(True)\n",
    "        plt.legend()\n",
    "        plt.show()    \n",
    "\n",
    "tri_dist = TriangularDistribution(min=0, max=25, mode=15)\n",
    "print(\"PDF at x = 15:\", tri_dist.pdf(15))\n",
    "tri_dist.plot_pdf()\n",
    "tri_dist.plot_cdf()\n",
    "print(\"CDF at x = 15:\", tri_dist.cdf(15))\n",
    "print(f\" Probability between 5 and 20 = {tri_dist.get_probability(5,20)}\")\n",
    "#tri_dist.get_probability(5,20)"
   ]
  },
  {
   "cell_type": "markdown",
   "id": "7f1d0597",
   "metadata": {},
   "source": [
    "### Problem-13\n",
    "\n",
    "The `rand5()` function which returns a uniform random integer within the range [1, 5], is defined as following:\n",
    "\n",
    "```python\n",
    "def rand5():\n",
    "    import numpy as np\n",
    "    return np.random.randint(1,6)\n",
    "```\n",
    "\n",
    "Write a function `rand7()` that will generate a uniform random integer within the range [1, 7] by only using `rand5()`. \n",
    "\n",
    "Note: You can call `rand5()` as many time as you want inside the function `rand7()`, but you can not use `np.random.randint(1, 8)` or any other built-in methods in python. "
   ]
  },
  {
   "cell_type": "code",
   "execution_count": 85,
   "id": "9ceaa115",
   "metadata": {},
   "outputs": [
    {
     "name": "stdout",
     "output_type": "stream",
     "text": [
      "6\n"
     ]
    }
   ],
   "source": [
    "### Write your code here\n",
    "import numpy as np\n",
    "\n",
    "def rand5():\n",
    "    return np.random.randint(1,6)\n",
    "\n",
    "def rand7():\n",
    "    x = rand5()*2 \n",
    "    if x > 7:\n",
    "        return x % 7 +1\n",
    "    else:\n",
    "        return x\n",
    "\n",
    "a= rand7()\n",
    "print(a)\n",
    "\n"
   ]
  },
  {
   "cell_type": "markdown",
   "id": "e6b19c2f",
   "metadata": {},
   "source": [
    "### Problem-14\n",
    "\n",
    "A grayscale image can be represented as a matrix where the dimensions are (height, width). \n",
    "Let's consider a simplified scenario with two grayscale images, $A$ and $B$, both represented as 10×10 matrices where each element represents pixel intensity. Pixel intensity is an integer in the range [0-255].\n",
    "\n",
    "You want to create a blended image $C$ by combining $A$ and $B$ such that $C=w_1 A+w_2 B$. This represents a weighted average blend.\n",
    "Note that each element in the resultant matrix $C$ should also fall within the range [0, 255]. \n",
    "\n",
    "write the code of the function `blend_images(image_A, image_B, weight_A, weight_B)` that takes two matrices and two scalar weights and produces another matrix as an output by performing the above operation."
   ]
  },
  {
   "cell_type": "code",
   "execution_count": 107,
   "id": "14aa7c52",
   "metadata": {},
   "outputs": [
    {
     "name": "stdout",
     "output_type": "stream",
     "text": [
      "[[127 149  49 117  16  84 163 228  18 127]\n",
      " [  5  56  75 139 182 141 172 148  56   8]\n",
      " [208 137  54 251 132  65 214  89  67  20]\n",
      " [233  89 161 205   7 146   5 101 145 156]\n",
      " [ 78 219  92 128 161 134  24  13 203 219]\n",
      " [ 80 202 106 204 136 233  16 191 244  22]\n",
      " [131 166 172 133 213 219 252 233  74 200]\n",
      " [106 220 233  14 196 239 181  34 254 247]\n",
      " [ 15  91 177 177  30 226 188 231  84 171]\n",
      " [200 229   5  72   8 236 180  57 173  65]]\n",
      "\n",
      "[[252 131 136 169 195 253 165 156 160 129]\n",
      " [103 166 249 152 220  52 121   4  16 236]\n",
      " [ 80 164 138  47 250 207 192  10 113 111]\n",
      " [  0  48 184 225 159 246 149 166 212 187]\n",
      " [115  52 113 112 113 224  60 125 111 163]\n",
      " [177 154  45 209  12 235   6  83 132 168]\n",
      " [117 246 228 247 101 252 148  77 183 129]\n",
      " [ 61 230 163 225 231 182   6 173 233 194]\n",
      " [181 134 212 157 193 223 219 111 246 212]\n",
      " [218 220 185 155  59 162 173  62 143 248]]\n"
     ]
    }
   ],
   "source": [
    "### Write your code here\n",
    "import numpy as np\n",
    "\n",
    "def blend_images(image_A, image_B, weight_A, weight_B):\n",
    "    blended_image = weight_A * image_A + weight_B * image_B\n",
    "    blended_image = np.clip(blended_image, 0, 255)\n",
    "    return blended_image.astype(np.uint)\n",
    "\n",
    "a=np.random.randint(0, 256, size=(10, 10))\n",
    "print(a)\n",
    "print()\n",
    "b = np.random.randint(0, 256, size=(10, 10))\n",
    "print(b)\n"
   ]
  },
  {
   "cell_type": "code",
   "execution_count": 109,
   "id": "0f2d8ebc",
   "metadata": {},
   "outputs": [
    {
     "name": "stdout",
     "output_type": "stream",
     "text": [
      "[[151  95  77 107 100 143 115 123  83  89]\n",
      " [ 52  94 139 103 146  54  94  31  19 119]\n",
      " [ 81 109  79  73 151 116 138  22  69  59]\n",
      " [ 46  41 124 153  80 152  75 103 135 124]\n",
      " [ 73  69  74  81  88 138  34  65  96 125]\n",
      " [104 117  43 145  33 164   6  79 114  88]\n",
      " [ 84 156 148 150  93 169 124  85 106 104]\n",
      " [ 51 159 128 115 154 138  39  93 167 146]\n",
      " [ 93  85 141 113 102 156 147 101 139 140]\n",
      " [149 155  93  91  31 128 122  42 106 137]]\n"
     ]
    }
   ],
   "source": [
    "c= blend_images(a,b,0.2,0.5)\n",
    "print(c)\n"
   ]
  },
  {
   "cell_type": "markdown",
   "id": "a866e35b",
   "metadata": {},
   "source": [
    "### Problem-15\n",
    "\n",
    "Calculate the eigen values and eigen vectors of the following matrices.\n",
    "\n",
    "$A = \\begin{bmatrix}\n",
    "5 & 2 \\\\\n",
    "2 & 2\n",
    "\\end{bmatrix}$      \n",
    "\n",
    "$B = \\begin{bmatrix}\n",
    "1 & 1 & 0\\\\\n",
    "0 & 2 & 0\\\\\n",
    "-1 & 1 & 3\n",
    "\\end{bmatrix}$"
   ]
  },
  {
   "cell_type": "markdown",
   "id": "db6baf67",
   "metadata": {},
   "source": []
  },
  {
   "cell_type": "markdown",
   "id": "d9781244",
   "metadata": {},
   "source": [
    "# Will attach as pdf"
   ]
  }
 ],
 "metadata": {
  "kernelspec": {
   "display_name": "Python 3",
   "language": "python",
   "name": "python3"
  },
  "language_info": {
   "codemirror_mode": {
    "name": "ipython",
    "version": 3
   },
   "file_extension": ".py",
   "mimetype": "text/x-python",
   "name": "python",
   "nbconvert_exporter": "python",
   "pygments_lexer": "ipython3",
   "version": "3.12.9"
  }
 },
 "nbformat": 4,
 "nbformat_minor": 5
}
