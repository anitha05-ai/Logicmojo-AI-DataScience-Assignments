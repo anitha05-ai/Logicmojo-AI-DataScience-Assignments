{
 "cells": [
  {
   "cell_type": "markdown",
   "id": "c187da20",
   "metadata": {},
   "source": [
    "# Assignment-6\n",
    "\n",
    "This notebook contains the questions to test the proficiency in `Statistics`.\n",
    "\n",
    "### Date: 28th June, 2025\n",
    "\n",
    "### Steps to solve and upload the assignment \n",
    "\n",
    "- Download the notebook in your local machine.\n",
    "- Solve the questions in the notebook and save it.\n",
    "- Rename the file as `Assignment-06-<your_name>_<your_surname>.ipynb`. For example if your name is Dipika Chopra then name the file as `Assignment-06-Dipika_Chopra.ipynb`.\n",
    "- For numerical problems you can either solve the same using using python in the solution notebook or you can solve it on paper and upload the scan pdf copy of the solution. \n",
    "- If you are solving it on paper then name the pdf file of the scan copy of the solution as `Assignment-06-<your_name>_<your_surname>.pdf`. For example if your name is Akash Kumar then name the file as `Assignment-06-Akash_Kumar.pdf`.\n",
    "- Upload the solved notebook and the scanned pdf copy of the solutions in the google drive location: https://drive.google.com/drive/folders/1VW5Z6l5r0mQTFbvvlhNNHnIlJ8A0yG5c?usp=sharing\n",
    "<h3><span style=\"color:red\"> Deadline: 19th July, 2025 </span></h3>"
   ]
  },
  {
   "cell_type": "markdown",
   "id": "3649d872",
   "metadata": {},
   "source": [
    "<h5><span style=\"color:blue\"> <b>Instructions:</b> Please answer all the questions. For problems requiring numerical solutions, you are encouraged to write code in Python to compute the results. Show your steps and explain your reasoning. </span></h5>"
   ]
  },
  {
   "cell_type": "markdown",
   "id": "1c96ba7f",
   "metadata": {},
   "source": [
    "### Problem-1\n",
    "\n",
    "A startup company with 20 employees recorded their annual salaries (in INR Lakhs):\n",
    "`[6.5, 7.2, 8.0, 6.8, 9.5, 7.0, 15.0, 7.5, 8.2, 6.9, 7.8, 10.5, 7.1, 8.5, 6.7, 7.3, 7.9, 9.0, 8.8, 7.6]`\n",
    "\n",
    "(a) Calculate the mean, median, and mode of the salaries.\n",
    "\n",
    "(b) Determine the range, variance, and standard deviation of the salaries.\n",
    "\n",
    "(c) Calculate the Interquartile Range (IQR). What does the IQR tell you about the salary distribution?\n",
    "\n",
    "(d) Construct a box plot for the salaries. Identify any potential outliers.\n"
   ]
  },
  {
   "cell_type": "code",
   "execution_count": 5,
   "id": "5f1ba493",
   "metadata": {},
   "outputs": [
    {
     "name": "stdout",
     "output_type": "stream",
     "text": [
      "Mean of Salaries : 8.19\n",
      "Median of Salaries : 7.70\n",
      "Mode of Salaries : 6.5\n",
      "Range of Salaries : 8.5\n",
      "Variance : 3.62\n",
      "Standard deviation : 1.90\n",
      "IQR of the Salaries :1.5\n"
     ]
    }
   ],
   "source": [
    "####Solution\n",
    "\n",
    "import numpy as np\n",
    "import statistics as stat\n",
    "from scipy import stats\n",
    "\n",
    "Salary = np.array([6.5, 7.2, 8.0, 6.8, 9.5, 7.0, 15.0, 7.5, 8.2, 6.9, 7.8, 10.5, 7.1, 8.5, 6.7, 7.3, 7.9, 9.0, 8.8, 7.6])\n",
    "\n",
    "# Mean\n",
    "mean = stat.mean(Salary)\n",
    "print(f\"Mean of Salaries : {mean:.2f}\")\n",
    "\n",
    "#Median\n",
    "median = stat.median(Salary)\n",
    "print(f\"Median of Salaries : {median:.2f}\")\n",
    "\n",
    "#Mode\n",
    "mode = stat.mode(Salary)\n",
    "print(f\"Mode of Salaries : {mode}\")\n",
    "\n",
    "#Range\n",
    "max_sal =  np.max(Salary)\n",
    "#print(max_sal)\n",
    "\n",
    "min_sal = np.min(Salary)\n",
    "#print(min_sal)\n",
    "\n",
    "range = np.max(Salary)- np.min(Salary)\n",
    "print(f\"Range of Salaries : {range}\")\n",
    "\n",
    "#Variancee\n",
    "var_sal = np.var(Salary, ddof = 1)\n",
    "print(f\"Variance : {var_sal:.2f}\")\n",
    "\n",
    "#Standard deviation \n",
    "std_sal = np.std(Salary, ddof = 1)\n",
    "print(f\"Standard deviation : {std_sal:.2f}\")\n",
    "\n",
    "#IQR \n",
    "## IQR is the Inter Quartile Range Q3( upper 75th percentile) - Q1 ( lower 25th percentile)\n",
    "iqr_sal = stats.iqr(Salary)\n",
    "print(f\"IQR of the Salaries :{iqr_sal}\")\n"
   ]
  },
  {
   "cell_type": "code",
   "execution_count": 41,
   "id": "c0a8c6db",
   "metadata": {},
   "outputs": [],
   "source": [
    "import matplotlib.pyplot as plt"
   ]
  },
  {
   "cell_type": "code",
   "execution_count": 19,
   "id": "f8632c5e",
   "metadata": {},
   "outputs": [
    {
     "data": {
      "image/png": "[encoded data removed]",
      "text/plain": [
       "<Figure size 1000x600 with 1 Axes>"
      ]
     },
     "metadata": {},
     "output_type": "display_data"
    }
   ],
   "source": [
    "plt.figure(figsize=(10, 6))\n",
    "plt.boxplot(Salary, vert=False)\n",
    "plt.title(\"Box Plot with Potential Outlier\")\n",
    "plt.ylabel(\"Value\")\n",
    "plt.grid()\n",
    "plt.show()\n"
   ]
  },
  {
   "cell_type": "markdown",
   "id": "fea186a2",
   "metadata": {},
   "source": [
    "### Problem-2\n",
    "\n",
    "A tech company conducted a customer satisfaction survey, rating their latest product on a scale of 1 to 10 (10 being highly satisfied). The scores from 30 randomly selected customers are:\n",
    "[7, 8, 9, 6, 7, 8, 10, 5, 7, 8, 9, 7, 6, 8, 7, 9, 10, 6, 7, 8, 5, 9, 8, 7, 6, 7, 8, 9, 7, 8]\n",
    "\n",
    "(a) Create a frequency distribution table for these scores.\n",
    "\n",
    "(b) Plot a histogram of the customer satisfaction scores. Describe the shape of the distribution (e.g., symmetric, skewed).\n",
    "\n",
    "(c) Calculate the Pearson's (first and second) coefficients of skewness for this data. Interpret the values.\n",
    "\n",
    "(d) Calculate the excess kurtosis for this data using sample kurtosis formula. What does the kurtosis value suggest about the tails of the distribution?\n",
    "\n",
    "Solution:\n",
    "kurtosis = sum((x-mean)^4))/sd^4*(n-1) - 3\n",
    "\n",
    " = 0.45 which means this distribution is leptokurtic with fatter tails.\n"
   ]
  },
  {
   "cell_type": "markdown",
   "id": "7df50f76",
   "metadata": {},
   "source": [
    "\n",
    "##### a) Frequency Distribution table \n",
    "\n",
    " Rating | No of Customers       | \n",
    "|-------|-----------------------|\n",
    "|     1 |                     0 |  \n",
    "|     2 |                     0 |  \n",
    "|     3 |                     0 | \n",
    "|     4 |                     0 | \n",
    "|     5 |                     2 |  \n",
    "|     6 |                     4 |  \n",
    "|     7 |                     9 | \n",
    "|     8 |                     8 | \n",
    "|     9 |                     5 |  \n",
    "|    10 |                     2 |   "
   ]
  },
  {
   "cell_type": "markdown",
   "id": "60ae495a",
   "metadata": {},
   "source": [
    "##### b)Histogram"
   ]
  },
  {
   "cell_type": "code",
   "execution_count": 1,
   "id": "094ec215",
   "metadata": {},
   "outputs": [
    {
     "data": {
      "image/png": "[encoded data removed]",
      "text/plain": [
       "<Figure size 640x480 with 1 Axes>"
      ]
     },
     "metadata": {},
     "output_type": "display_data"
    }
   ],
   "source": [
    "\n",
    "import matplotlib.pyplot as plt\n",
    "import numpy as np\n",
    "import statistics as stat\n",
    "\n",
    "a = np.array([7, 8, 9, 6, 7, 8, 10, 5, 7, 8, 9, 7, 6, 8, 7, 9, 10, 6, 7, 8, 5, 9, 8, 7, 6, 7, 8, 9, 7, 8])\n",
    "plt.hist(a)\n",
    "plt.title(\"Customer satisfaction scores\")\n",
    "plt.ylabel(\"No of Customers\")\n",
    "plt.xlabel(\"Rating\")\n",
    "plt.show()\n",
    "\n",
    "# shape of the distribution looks symmetrical\n"
   ]
  },
  {
   "cell_type": "code",
   "execution_count": null,
   "id": "8b1bbefb",
   "metadata": {},
   "outputs": [],
   "source": [
    "##### c)Pearson's skewness"
   ]
  },
  {
   "cell_type": "code",
   "execution_count": 3,
   "id": "bf12667a",
   "metadata": {},
   "outputs": [
    {
     "name": "stdout",
     "output_type": "stream",
     "text": [
      "[ 7  8  9  6  7  8 10  5  7  8  9  7  6  8  7  9 10  6  7  8  5  9  8  7\n",
      "  6  7  8  9  7  8]\n",
      "Mean of Scores : 7\n",
      "Mode of Scores : 7\n",
      "Median of Scores : 7.50\n",
      "Standard deviation : 1.31\n",
      "Pearson 1 coeff skewness :0.0\n",
      "Pearson 2 coeff skewness :-1.15\n"
     ]
    }
   ],
   "source": [
    "import numpy as np\n",
    "import statistics as stat\n",
    "\n",
    "a = np.array([7, 8, 9, 6, 7, 8, 10, 5, 7, 8, 9, 7, 6, 8, 7, 9, 10, 6, 7, 8, 5, 9, 8, 7, 6, 7, 8, 9, 7, 8])\n",
    "print (a)\n",
    "\n",
    "# Mean\n",
    "mean = stat.mean(a)\n",
    "print(f\"Mean of Scores : {mean}\")\n",
    "\n",
    "#Mode\n",
    "mode = stat.mode(a)\n",
    "print(f\"Mode of Scores : {mode}\")\n",
    "\n",
    "#Median\n",
    "median = stat.median(a)\n",
    "print(f\"Median of Scores : {median:.2f}\")\n",
    "\n",
    "#Standard deviation \n",
    "std1 = np.std(a, ddof = 1)\n",
    "print(f\"Standard deviation : {std1:.2f}\")\n",
    "\n",
    "Pearson1 = (mean-mode)/std1\n",
    "print(f\"Pearson 1 coeff skewness :{Pearson1}\")\n",
    "\n",
    "Pearson2 = (3*(mean-median))/std1\n",
    "print(f\"Pearson 2 coeff skewness :{Pearson2:.2f}\")"
   ]
  },
  {
   "cell_type": "markdown",
   "id": "060b1079",
   "metadata": {},
   "source": [
    "### Problem-3\n",
    "\n",
    "A marketing team wants to understand the relationship between their monthly advertising expenditure (in INR Lakhs) and corresponding sales revenue (in INR Lakhs) over the last 10 months.\n",
    "\n",
    "| Month | Advertising Spend (X) | Sales Revenue (Y) |\n",
    "|-------|-----------------------|-------------------|\n",
    "|     1 |                     5 |                52 |\n",
    "|     2 |                     7 |                65 |\n",
    "|     3 |                     6 |                60 |\n",
    "|     4 |                     8 |                70 |\n",
    "|     5 |                     5 |                55 |\n",
    "|     6 |                     9 |                75 |\n",
    "|     7 |                     7 |                68 |\n",
    "|     8 |                    10 |                80 |\n",
    "|     9 |                     6 |                58 |\n",
    "|    10 |                     8 |                72 |\n",
    "\n",
    "\n",
    "(a) Calculate the covariance between advertising spend and sales revenue.\n",
    "\n",
    "(b) Plot Sales Revenue vs Advertising spent.\n",
    "\n",
    "(c) Calculate the Pearson correlation coefficient between advertising spend and sales revenue.\n",
    "\n",
    "(d) Interpret the meaning of both the covariance and the correlation coefficient in the context of this data."
   ]
  },
  {
   "cell_type": "markdown",
   "id": "65876a55",
   "metadata": {},
   "source": [
    "Refer PDF also "
   ]
  },
  {
   "cell_type": "code",
   "execution_count": 22,
   "id": "b03f6f4c",
   "metadata": {},
   "outputs": [
    {
     "name": "stdout",
     "output_type": "stream",
     "text": [
      "[[ 2.76666667 14.94444444]\n",
      " [14.94444444 83.16666667]]\n",
      "covariance between advertising spend and sales revenue :14.94\n"
     ]
    },
    {
     "data": {
      "image/png": "[encoded data removed]",
      "text/plain": [
       "<Figure size 640x480 with 1 Axes>"
      ]
     },
     "metadata": {},
     "output_type": "display_data"
    }
   ],
   "source": [
    "\n",
    "import matplotlib.pyplot as plt\n",
    "import numpy as np\n",
    "import statistics as stat\n",
    "\n",
    "adv_spend = np.array([5,7,6,8,5,9,7,10,6,8])\n",
    "sales_revenue = np.array([52,65,60,70,55,75,68,80,58,72])\n",
    "\n",
    "## a) Covariance\n",
    "cov_matrix = np.cov(adv_spend,sales_revenue)\n",
    "print(cov_matrix)\n",
    "cov_value=round(cov_matrix[0,1],2)\n",
    "print(f\"covariance between advertising spend and sales revenue :{cov_value}\")\n",
    "\n",
    "### b) Plotting\n",
    "\n",
    "plt.scatter(adv_spend, sales_revenue, color = 'red')\n",
    "plt.title(\"Sales Revenue vs Advertising spend\")\n",
    "plt.ylabel(\"Advertising spend\")\n",
    "plt.xlabel(\"Sales Revenue\")\n",
    "plt.grid()\n",
    "plt.show()\n"
   ]
  },
  {
   "cell_type": "markdown",
   "id": "6f4d1031",
   "metadata": {},
   "source": [
    "### Problem-4\n",
    "\n",
    "A traffic department claims that the average daily commute time for residents in a certain city is 45 minutes. A researcher believes this claim is too low and collects data from a random sample of 100 residents. The sample mean commute time is 48 minutes with a standard deviation of 12 minutes.\n",
    "\n",
    "(a) Formulate the null and alternative hypotheses for this scenario.\n",
    "\n",
    "(b) Construct a 95% confidence interval for the true average daily commute time.\n",
    "\n",
    "(c) Based on the confidence interval, what can you conclude about the traffic department's claim?"
   ]
  },
  {
   "cell_type": "markdown",
   "id": "0def6719",
   "metadata": {},
   "source": [
    "Refer PDf"
   ]
  },
  {
   "cell_type": "markdown",
   "id": "a9967414",
   "metadata": {},
   "source": [
    "### Problem-5\n",
    "\n",
    "A manufacturing company wants to estimate the average number of units produced per hour by a new machine. They take 36 random observations and find the sample mean to be 150 units with a sample standard deviation of 15 units.\n",
    "\n",
    "(a) What is the point estimate for the true average number of units produced per hour?\n",
    "\n",
    "(b) Construct a 99% confidence interval for the true average number of units produced per hour.\n",
    "\n",
    "(c) If the company wants to be 99% confident that their estimate is within 3 units of the true mean, what sample size would they need (assuming the same standard deviation)?"
   ]
  },
  {
   "cell_type": "markdown",
   "id": "f121a585",
   "metadata": {},
   "source": [
    "Refer PDf"
   ]
  },
  {
   "cell_type": "markdown",
   "id": "28c7a27a",
   "metadata": {},
   "source": [
    "### Problem-6\n",
    "\n",
    "A website designer believes that a new website redesign will increase the average time users spend on the site. Before the redesign, the average time spent was 3.5 minutes. After the redesign, a random sample of 50 users showed an average time of 3.8 minutes with a standard deviation of 1.0 minute.\n",
    "\n",
    "(a) Perform a one-sided hypothesis test at a 0.05 significance level to determine if the redesign significantly increased the average time spent.\n",
    "\n",
    "(b) State your null and alternative hypotheses, calculate the test statistic, and determine the p-value.\n",
    "\n",
    "(c) What is your conclusion regarding the website redesign's impact?"
   ]
  },
  {
   "cell_type": "markdown",
   "id": "90c45610",
   "metadata": {},
   "source": [
    "Refer PDf"
   ]
  },
  {
   "cell_type": "markdown",
   "id": "b516b37d",
   "metadata": {},
   "source": [
    "### Problem-7\n",
    "\n",
    "A company implemented a new training program to improve employee productivity. To assess its effectiveness, 15 employees' productivity scores were recorded before and after the training program. The scores are as follows:\n",
    "\n",
    "| Employee | Before Training | After Training |\n",
    "|----------|-----------------|----------------|\n",
    "|        1 |              65 |             70 |\n",
    "|        2 |              70 |             72 |\n",
    "|        3 |              60 |             68 |\n",
    "|        4 |              75 |             73 |\n",
    "|        5 |              80 |             85 |\n",
    "|        6 |              68 |             70 |\n",
    "|        7 |              72 |             75 |\n",
    "|        8 |              62 |             65 |\n",
    "|        9 |              78 |             80 |\n",
    "|       10 |              70 |             72 |\n",
    "|       11 |              66 |             69 |\n",
    "|       12 |              73 |             76 |\n",
    "|       13 |              64 |             67 |\n",
    "|       14 |              71 |             74 |\n",
    "|       15 |              69 |             71 |\n",
    "\n",
    "(a) State the null and alternative hypotheses to test if the training program significantly improved productivity.\n",
    "\n",
    "(b) Conduct a paired samples t-test at a 0.05 significance level. Calculate the test statistic and the p-value.\n",
    "\n",
    "(c) Based on your analysis, did the training program effectively improve employee productivity?"
   ]
  },
  {
   "cell_type": "markdown",
   "id": "3ae2c445",
   "metadata": {},
   "source": [
    "Refer PDf"
   ]
  },
  {
   "cell_type": "markdown",
   "id": "428bf18a",
   "metadata": {},
   "source": [
    "### Problem-8\n",
    "\n",
    "A battery manufacturer claims that their new 'ProLife' battery lasts longer than their existing 'Standard' battery. A consumer watchdog organization tests 40 'ProLife' batteries and 50 'Standard' batteries. The results are:\n",
    "\n",
    "ProLife: Sample mean life = 120 hours, Sample standard deviation = 10 hours\n",
    "\n",
    "Standard: Sample mean life = 115 hours, Sample standard deviation = 12 hours\n",
    "\n",
    "(a) State the null and alternative hypotheses for testing the manufacturer's claim.\n",
    "\n",
    "(b) Perform a z-test for two independent means at a 0.02 significance level.\n",
    "\n",
    "(c) What is your conclusion regarding the manufacturer's claim about the 'ProLife' battery?"
   ]
  },
  {
   "cell_type": "markdown",
   "id": "87f0e498",
   "metadata": {},
   "source": [
    "Refer PDf"
   ]
  },
  {
   "cell_type": "markdown",
   "id": "47a73ee9",
   "metadata": {},
   "source": [
    "### Problem-9\n",
    "\n",
    "A popular restaurant chain claims that the average waiting time for a table on weekends is no more than 20 minutes. A local food critic believes it's longer. They record the waiting times (in minutes) for 30 randomly selected tables on various weekends:\n",
    "\n",
    "`[22, 25, 18, 30, 28, 20, 23, 26, 19, 32, 21, 24, 27, 29, 20, 25, 23, 17, 31, 26, 22, 28, 20, 24, 27, 29, 21, 23, 25, 26]`\n",
    "\n",
    "(a) Calculate the sample mean and sample standard deviation of the waiting times.\n",
    "\n",
    "(b) Conduct a one-sided t-test at a 0.01 significance level to assess the food critic's belief.\n",
    "\n",
    "(c) State your null and alternative hypotheses, calculate the test statistic, and determine the critical value.\n",
    "\n",
    "(d) Based on your findings, what can you tell the food critic?"
   ]
  },
  {
   "cell_type": "markdown",
   "id": "145c55e2",
   "metadata": {},
   "source": [
    "Refer PDF also"
   ]
  },
  {
   "cell_type": "code",
   "execution_count": 11,
   "id": "27b62a89",
   "metadata": {},
   "outputs": [
    {
     "name": "stdout",
     "output_type": "stream",
     "text": [
      "Mean of waiting time : 24\n",
      "Standard deviation of waiting time: 3.93\n"
     ]
    }
   ],
   "source": [
    "import numpy as np\n",
    "import statistics as stat\n",
    "\n",
    "waiting_time = np.array([22, 25, 18, 30, 28, 20, 23, 26, 19, 32, 21, 24, 27, 29, 20, 25, 23, 17, 31, 26, 22, 28, 20, 24, 27, 29, 21, 23, 25, 26])\n",
    "#print (waiting_time)\n",
    "\n",
    "# Mean\n",
    "mean = stat.mean(waiting_time)\n",
    "print(f\"Mean of waiting time : {mean}\")\n",
    "\n",
    "#Standard deviation \n",
    "std1 = np.std(waiting_time, ddof = 1)\n",
    "print(f\"Standard deviation of waiting time: {std1:.2f}\")"
   ]
  },
  {
   "cell_type": "markdown",
   "id": "01477be1",
   "metadata": {},
   "source": [
    "### Problem-10\n",
    "\n",
    "A software company is launching a new application and offers three different subscription tiers (Basic, Premium, Elite), each with varying features. Before the full launch, they conduct a pilot study to see if there's an association between a customer's age group and their preferred subscription tier. They surveyed 300 randomly selected potential customers and recorded their age group and preferred tier:\n",
    "\n",
    "| Age Group   | Basic | Premium | Elite | Total |\n",
    "|-------------|-------|---------|-------|-------|\n",
    "| 18-29 years |    45 |      60 | 15    | 120   |\n",
    "| 30-49 years |    30 |      50 | 20    | 100   |\n",
    "|   50+ years |    25 |      40 | 15    | 80    |\n",
    "|       Total |   100 |     150 | 50    | 300   |\n",
    "\n",
    "\n",
    "(a) State the null and alternative hypotheses for the test of independence in this context.\n",
    "\n",
    "(b) Calculate the expected frequencies for each cell in the table, assuming the null hypothesis is true. Show your calculations clearly.\n",
    "\n",
    "(c) Calculate the chi-square test statistic.\n",
    "\n",
    "(d) Using a significance level of α=0.05, determine the critical value for this test.\n",
    "\n",
    "(e) What is your conclusion? Is there a significant association between a customer's age group and their preferred subscription tier? Justify your answer based on your calculated chi-square statistic and the critical value."
   ]
  },
  {
   "cell_type": "markdown",
   "id": "8f4d8e1a",
   "metadata": {},
   "source": [
    "Refer PDf"
   ]
  },
  {
   "cell_type": "markdown",
   "id": "c3bf80f1",
   "metadata": {},
   "source": [
    "### Bonus Problem\n",
    "\n",
    "An e-commerce company is testing two different designs for its product pages (Design A and Design B) to see if one leads to significantly higher conversion rates (percentage of visitors who make a purchase). They randomly assigned 50,000 website visitors to see Design A and another 50,000 visitors to see Design B over a two-week period. At the end of the period, they collected data on the conversion rates. Due to data collection specifics, they have daily average conversion rates for 30 randomly selected days for each design, rather than individual visitor data.\n",
    "\n",
    "Here are the summary statistics for the daily average conversion rates (in percentage points):\n",
    "\n",
    "* Design A (Sample 1):\n",
    "\n",
    "    - Number of days ($n_A$) = 30\n",
    "    - Mean Daily Conversion Rate ($\\bar{x}_A$) = 2.85%\n",
    "    - Sample Standard Deviation ($s_A$) = 0.45%\n",
    "\n",
    "* Design B (Sample 2):\n",
    "\n",
    "    - Number of days ($n_B$) = 30\n",
    "    - Mean Daily Conversion Rate ($\\bar{x}_B$) = 3.05%\n",
    "    - Sample Standard Deviation ($s_B$) = 0.60%\n",
    "\n",
    "The company is concerned that the variability in conversion rates might differ between the two designs due to different aesthetic elements or backend processes.\n",
    "\n",
    "(a) State the null and alternative hypotheses to test if there is a significant difference in the average daily conversion rates between Design A and Design B. (Consider a two-tailed test, as they are looking for any significant difference).\n",
    "\n",
    "(b) Before performing the t-test, you need to decide whether to assume equal or unequal population variances. For the purpose of this problem, assume that a prior test suggests unequal population variances.\n",
    "\n",
    "(c) Calculate the appropriate test statistic (t-value) for comparing the two independent means, assuming equal population variances. Show all steps of your calculation.\n",
    "\n",
    "(d) Determine the degrees of freedom for this test. \n",
    "\n",
    "(e) Using a significance level of α=0.05, determine the critical value(s) for your test.\n",
    "\n",
    "(f) Based on your calculated test statistic and the critical value(s), what is your conclusion? Is there a statistically significant difference in the average daily conversion rates between Design A and Design B?\n",
    "\n",
    "(g) Construct a 95% confidence interval for the difference between the true mean daily conversion rates $(μ_B - μ_A)$. Interpret this interval in the context of the problem."
   ]
  },
  {
   "cell_type": "markdown",
   "id": "017d8e30",
   "metadata": {},
   "source": [
    "Refer PDf"
   ]
  },
  {
   "cell_type": "markdown",
   "id": "83ca4cf3",
   "metadata": {},
   "source": []
  }
 ],
 "metadata": {
  "kernelspec": {
   "display_name": "Python 3",
   "language": "python",
   "name": "python3"
  },
  "language_info": {
   "codemirror_mode": {
    "name": "ipython",
    "version": 3
   },
   "file_extension": ".py",
   "mimetype": "text/x-python",
   "name": "python",
   "nbconvert_exporter": "python",
   "pygments_lexer": "ipython3",
   "version": "3.12.9"
  }
 },
 "nbformat": 4,
 "nbformat_minor": 5
}
