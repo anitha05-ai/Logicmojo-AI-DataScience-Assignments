{
 "cells": [
  {
   "cell_type": "markdown",
   "id": "dc07db6a",
   "metadata": {},
   "source": [
    "# Assignment-2\n",
    "\n",
    "This notebook contains the coding questions to test the proficiency in `NumPy` library of python.\n",
    "\n",
    "### Date: 4th May, 2025\n",
    "\n",
    "### Steps to solve and upload the assignment \n",
    "\n",
    "- Download the notebook in your local machine.\n",
    "- Solve the questions in the notebook and save it.\n",
    "- Rename the file as `Assignment-02-<your_name>_<your_surname>.ipynb`. For example if your name is Dipika Chopra then name the file as `Assignment-02-Dipika_Chopra.ipynb`.\n",
    "- Upload the solved notebook in the google drive location: https://drive.google.com/drive/folders/1oeXRThJXEUmx6Z2CGaksZuxN8QsIF7QD?usp=sharing\n",
    "\n",
    "<h3><span style=\"color:red\"> Deadline: 20th May, 2025 </span></h3>"
   ]
  },
  {
   "cell_type": "code",
   "execution_count": 2,
   "id": "d3038cca",
   "metadata": {},
   "outputs": [],
   "source": [
    "import numpy as np"
   ]
  },
  {
   "cell_type": "markdown",
   "id": "f4613f42",
   "metadata": {},
   "source": [
    "## Problem: 1\n",
    "Create a uniform subdivision of the interval -1.3 to 2.5 with 64 subdivisions."
   ]
  },
  {
   "cell_type": "code",
   "execution_count": 2,
   "id": "d9608c50",
   "metadata": {},
   "outputs": [
    {
     "data": {
      "text/plain": [
       "array([-1.3       , -1.23968254, -1.17936508, -1.11904762, -1.05873016,\n",
       "       -0.9984127 , -0.93809524, -0.87777778, -0.81746032, -0.75714286,\n",
       "       -0.6968254 , -0.63650794, -0.57619048, -0.51587302, -0.45555556,\n",
       "       -0.3952381 , -0.33492063, -0.27460317, -0.21428571, -0.15396825,\n",
       "       -0.09365079, -0.03333333,  0.02698413,  0.08730159,  0.14761905,\n",
       "        0.20793651,  0.26825397,  0.32857143,  0.38888889,  0.44920635,\n",
       "        0.50952381,  0.56984127,  0.63015873,  0.69047619,  0.75079365,\n",
       "        0.81111111,  0.87142857,  0.93174603,  0.99206349,  1.05238095,\n",
       "        1.11269841,  1.17301587,  1.23333333,  1.29365079,  1.35396825,\n",
       "        1.41428571,  1.47460317,  1.53492063,  1.5952381 ,  1.65555556,\n",
       "        1.71587302,  1.77619048,  1.83650794,  1.8968254 ,  1.95714286,\n",
       "        2.01746032,  2.07777778,  2.13809524,  2.1984127 ,  2.25873016,\n",
       "        2.31904762,  2.37936508,  2.43968254,  2.5       ])"
      ]
     },
     "execution_count": 2,
     "metadata": {},
     "output_type": "execute_result"
    }
   ],
   "source": [
    "# Write your code here\n",
    "a=np.linspace(-1.3,2.5,64)\n",
    "a"
   ]
  },
  {
   "cell_type": "markdown",
   "id": "592a81a1",
   "metadata": {},
   "source": [
    "## Problem: 2\n",
    "\n",
    "Generate an array of length $3n$ , filled with the cyclic pattern 1, 2, 3. Where $n$ is a natural number."
   ]
  },
  {
   "cell_type": "code",
   "execution_count": 36,
   "id": "b0eff8c5",
   "metadata": {},
   "outputs": [
    {
     "name": "stdout",
     "output_type": "stream",
     "text": [
      "[1, 2, 3, 1, 2, 3, 1, 2, 3, 1, 2, 3]\n"
     ]
    }
   ],
   "source": [
    "# Write your code here\n",
    "\n",
    "arr=[]\n",
    "n=4\n",
    "for i in range(n):\n",
    "    arr.extend([1,2,3])\n",
    "\n",
    "print(arr)"
   ]
  },
  {
   "cell_type": "markdown",
   "id": "4d2d5ac4",
   "metadata": {},
   "source": [
    "## Problem: 3\n",
    "Create an array of the first $n$ odd integers. $n$ is a natural number input from user."
   ]
  },
  {
   "cell_type": "code",
   "execution_count": null,
   "id": "d9ad08b8",
   "metadata": {},
   "outputs": [
    {
     "data": {
      "text/plain": [
       "array([1, 3, 5, 7, 9])"
      ]
     },
     "execution_count": 18,
     "metadata": {},
     "output_type": "execute_result"
    }
   ],
   "source": [
    "# Write your code here\n",
    "\n",
    "\n",
    "n=int(input(\"Enter value of n\"))\n",
    "b=np.arange(1,n,2)\n",
    "b\n"
   ]
  },
  {
   "cell_type": "markdown",
   "id": "b4db8108",
   "metadata": {},
   "source": [
    "## Problem: 4\n",
    "\n",
    "Create a 10 x 10 arrays of zeros and then \"frame\" it with a border of ones."
   ]
  },
  {
   "cell_type": "code",
   "execution_count": 38,
   "id": "43ebcbe6",
   "metadata": {},
   "outputs": [
    {
     "data": {
      "text/plain": [
       "array([[1, 1, 1, 1, 1, 1, 1, 1, 1, 1],\n",
       "       [1, 0, 0, 0, 0, 0, 0, 0, 0, 1],\n",
       "       [1, 0, 0, 0, 0, 0, 0, 0, 0, 1],\n",
       "       [1, 0, 0, 0, 0, 0, 0, 0, 0, 1],\n",
       "       [1, 0, 0, 0, 0, 0, 0, 0, 0, 1],\n",
       "       [1, 0, 0, 0, 0, 0, 0, 0, 0, 1],\n",
       "       [1, 0, 0, 0, 0, 0, 0, 0, 0, 1],\n",
       "       [1, 0, 0, 0, 0, 0, 0, 0, 0, 1],\n",
       "       [1, 0, 0, 0, 0, 0, 0, 0, 0, 1],\n",
       "       [1, 1, 1, 1, 1, 1, 1, 1, 1, 1]])"
      ]
     },
     "execution_count": 38,
     "metadata": {},
     "output_type": "execute_result"
    }
   ],
   "source": [
    "# Write your code here\n",
    "\n",
    "a=np.zeros((100), dtype=int)\n",
    "a=a.reshape((10,10))\n",
    "\n",
    "a[0,:]=1\n",
    "a[9,:]=1\n",
    "a[:,0]=1\n",
    "a[:,-1]=1\n",
    "a"
   ]
  },
  {
   "cell_type": "markdown",
   "id": "b7dfc64f",
   "metadata": {},
   "source": [
    "## Problem: 5\n",
    "\n",
    "Create an 8 x 8 array with a checkerboard pattern of zeros and ones."
   ]
  },
  {
   "cell_type": "code",
   "execution_count": 58,
   "id": "a2533a49",
   "metadata": {},
   "outputs": [
    {
     "data": {
      "text/plain": [
       "array([[0, 1, 0, 1, 0, 1, 0, 1],\n",
       "       [1, 0, 1, 0, 1, 0, 1, 0],\n",
       "       [0, 1, 0, 1, 0, 1, 0, 1],\n",
       "       [1, 0, 1, 0, 1, 0, 1, 0],\n",
       "       [0, 1, 0, 1, 0, 1, 0, 1],\n",
       "       [1, 0, 1, 0, 1, 0, 1, 0],\n",
       "       [0, 1, 0, 1, 0, 1, 0, 1],\n",
       "       [1, 0, 1, 0, 1, 0, 1, 0]])"
      ]
     },
     "execution_count": 58,
     "metadata": {},
     "output_type": "execute_result"
    }
   ],
   "source": [
    "# Write your code here\n",
    "a=np.zeros((64), dtype=int)\n",
    "a=a.reshape((8,8))\n",
    "a[1::2, ::2] = 1 #row wise alternate 1 , starts from row index1\n",
    "a[::2, 1::2] = 1 # column wise alternate 1 , starts from column index1\n",
    "a\n"
   ]
  },
  {
   "cell_type": "markdown",
   "id": "16836fba",
   "metadata": {},
   "source": [
    "## Problem: 6\n",
    "\n",
    "Create an array $x$ with 100 points in the interval $[-1,1]$ (the points must be uniformly spaced). Then create another array $y$. \n",
    "\n",
    "Where $y = x^2 sin(x^2) + x$. \n",
    "\n",
    "Try to plot $y$ vs $x$ using matplotlib."
   ]
  },
  {
   "cell_type": "code",
   "execution_count": 3,
   "id": "60163795",
   "metadata": {},
   "outputs": [],
   "source": [
    "# Write your code here\n",
    "import numpy as np\n",
    "x=np.linspace(-1,1,100)\n",
    "#x\n"
   ]
  },
  {
   "cell_type": "code",
   "execution_count": null,
   "id": "f448babb",
   "metadata": {},
   "outputs": [],
   "source": [
    "y = x**2 * np.sin(x**2) + x\n",
    "#y"
   ]
  },
  {
   "cell_type": "code",
   "execution_count": 22,
   "id": "5bdc7ec0",
   "metadata": {},
   "outputs": [
    {
     "data": {
      "image/png": "[encoded data removed]",
      "text/plain": [
       "<Figure size 640x480 with 1 Axes>"
      ]
     },
     "metadata": {},
     "output_type": "display_data"
    }
   ],
   "source": [
    "import matplotlib.pyplot as plt\n",
    "#plt.figure(figsize = (5,5))\n",
    "plt.plot(x,y,'r')\n",
    "plt.grid()\n",
    "plt.xlabel('X')\n",
    "plt.ylabel('Y')\n",
    "plt.title('Y vs X')\n",
    "plt.show()"
   ]
  },
  {
   "cell_type": "markdown",
   "id": "38ce56fe",
   "metadata": {},
   "source": [
    "## Problem: 7 \n",
    "Create a function which creates an $n×n$ array with $(i , j)$ -entry equal to $i+ j$"
   ]
  },
  {
   "cell_type": "code",
   "execution_count": 3,
   "id": "9f8df5fc",
   "metadata": {},
   "outputs": [
    {
     "name": "stdout",
     "output_type": "stream",
     "text": [
      "[[0 1 2 3 4]\n",
      " [1 2 3 4 5]\n",
      " [2 3 4 5 6]\n",
      " [3 4 5 6 7]\n",
      " [4 5 6 7 8]]\n"
     ]
    }
   ],
   "source": [
    "# Write your code here\n",
    "import numpy as np\n",
    "n=5\n",
    "arr=np.fromfunction(lambda i, j: i+j, (n, n), dtype=int)\n",
    "print(arr)"
   ]
  },
  {
   "cell_type": "markdown",
   "id": "c7ef619d",
   "metadata": {},
   "source": [
    "# Problem: 8\n",
    "Evaluate $cos$ and $sin$ on the interval $[0,1]$  with 1000 points and then stack the results into a tall array with rows being the $(cos(x),sin(x))$ entries."
   ]
  },
  {
   "cell_type": "code",
   "execution_count": 29,
   "id": "268d11c0",
   "metadata": {},
   "outputs": [
    {
     "data": {
      "text/plain": [
       "array([[1.        , 0.9999995 , 0.999998  , ..., 0.54198585, 0.54114435,\n",
       "        0.54030231],\n",
       "       [0.        , 0.001001  , 0.002002  , ..., 0.84038761, 0.84092972,\n",
       "        0.84147098]], shape=(2, 1000))"
      ]
     },
     "execution_count": 29,
     "metadata": {},
     "output_type": "execute_result"
    }
   ],
   "source": [
    "# Write your code here\n",
    "x=np.linspace(0,1,1000)\n",
    "y=np.cos(x)\n",
    "z=np.sin(x)\n",
    "np.stack((y, z), axis=0)"
   ]
  },
  {
   "cell_type": "markdown",
   "id": "388a60e9",
   "metadata": {},
   "source": [
    "# Problem: 9\n",
    "\n",
    "Create a random $3×5$ array using the `np.random.rand(3 ,5)` function and compute: the sum of all the entries, the sum of the rows, and the sum of the columns."
   ]
  },
  {
   "cell_type": "code",
   "execution_count": null,
   "id": "6dfa35a5",
   "metadata": {},
   "outputs": [
    {
     "name": "stdout",
     "output_type": "stream",
     "text": [
      "[[0.79928105 0.76829502 0.56225467 0.09418942 0.30944938]\n",
      " [0.71966488 0.3369747  0.95773031 0.74262598 0.41737654]\n",
      " [0.5598067  0.09595443 0.48274045 0.44343597 0.77771639]]\n"
     ]
    },
    {
     "data": {
      "text/plain": [
       "np.float64(8.067495893815495)"
      ]
     },
     "execution_count": 81,
     "metadata": {},
     "output_type": "execute_result"
    }
   ],
   "source": [
    "# Write your code here\n",
    "\n",
    "q=np.random.rand(3 ,5)\n",
    "print(q)\n",
    "s=np.sum(q) # sum of all entries\n",
    "s\n"
   ]
  },
  {
   "cell_type": "code",
   "execution_count": null,
   "id": "eed786d0",
   "metadata": {},
   "outputs": [
    {
     "data": {
      "text/plain": [
       "array([2.07875262, 1.20122415, 2.00272543, 1.28025137, 1.50454232])"
      ]
     },
     "execution_count": 82,
     "metadata": {},
     "output_type": "execute_result"
    }
   ],
   "source": [
    "x=np.sum(q,axis=0) #sum of rows\n",
    "x"
   ]
  },
  {
   "cell_type": "code",
   "execution_count": null,
   "id": "a8702df5",
   "metadata": {},
   "outputs": [
    {
     "data": {
      "text/plain": [
       "array([2.53346954, 3.17437241, 2.35965394])"
      ]
     },
     "execution_count": 83,
     "metadata": {},
     "output_type": "execute_result"
    }
   ],
   "source": [
    "y=np.sum(q,axis=1) #sum of columns\n",
    "y\n"
   ]
  },
  {
   "cell_type": "markdown",
   "id": "b0eabd51",
   "metadata": {},
   "source": [
    "## Problem: 10\n",
    "\n",
    "Create a random $5×5$ array using the function `np.random.rand(5, 5)`. Then sort the rows according to the second column."
   ]
  },
  {
   "cell_type": "code",
   "execution_count": 5,
   "id": "e689c2af",
   "metadata": {},
   "outputs": [
    {
     "data": {
      "text/plain": [
       "array([[0.80294247, 0.66442186, 0.79515015, 0.34400846, 0.02693793],\n",
       "       [0.78173981, 0.16703363, 0.90854469, 0.38889464, 0.99660555],\n",
       "       [0.00681891, 0.40649856, 0.82474281, 0.87727146, 0.30935697],\n",
       "       [0.01785834, 0.84735657, 0.66004295, 0.24728711, 0.35848005],\n",
       "       [0.38720881, 0.05133806, 0.61905083, 0.95668733, 0.99866379]])"
      ]
     },
     "execution_count": 5,
     "metadata": {},
     "output_type": "execute_result"
    }
   ],
   "source": [
    "# Write your code here\n",
    "import numpy as np\n",
    "a=np.random.rand(5, 5)\n",
    "a"
   ]
  },
  {
   "cell_type": "code",
   "execution_count": 7,
   "id": "f810faba",
   "metadata": {},
   "outputs": [
    {
     "data": {
      "text/plain": [
       "array([[0.38720881, 0.05133806, 0.61905083, 0.95668733, 0.99866379],\n",
       "       [0.78173981, 0.16703363, 0.90854469, 0.38889464, 0.99660555],\n",
       "       [0.00681891, 0.40649856, 0.82474281, 0.87727146, 0.30935697],\n",
       "       [0.80294247, 0.66442186, 0.79515015, 0.34400846, 0.02693793],\n",
       "       [0.01785834, 0.84735657, 0.66004295, 0.24728711, 0.35848005]])"
      ]
     },
     "execution_count": 7,
     "metadata": {},
     "output_type": "execute_result"
    }
   ],
   "source": [
    "mysort=np.argsort(a[:,1])\n",
    "b=a[mysort]\n",
    "b"
   ]
  },
  {
   "cell_type": "code",
   "execution_count": null,
   "id": "c8e04adf",
   "metadata": {},
   "outputs": [],
   "source": []
  }
 ],
 "metadata": {
  "kernelspec": {
   "display_name": "Python 3",
   "language": "python",
   "name": "python3"
  },
  "language_info": {
   "codemirror_mode": {
    "name": "ipython",
    "version": 3
   },
   "file_extension": ".py",
   "mimetype": "text/x-python",
   "name": "python",
   "nbconvert_exporter": "python",
   "pygments_lexer": "ipython3",
   "version": "3.12.9"
  }
 },
 "nbformat": 4,
 "nbformat_minor": 5
}
