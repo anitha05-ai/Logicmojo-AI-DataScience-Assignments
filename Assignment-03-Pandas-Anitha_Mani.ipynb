{
 "cells": [
  {
   "cell_type": "markdown",
   "id": "09449a86",
   "metadata": {},
   "source": [
    "# Assignment-3\n",
    "\n",
    "This notebook contains the coding questions to test the proficiency in `Pandas` library in python.\n",
    "\n",
    "### Date: 4th May, 2025\n",
    "\n",
    "### Steps to solve and upload the assignment \n",
    "\n",
    "- Download the notebook in your local machine.\n",
    "- Solve the questions in the notebook and save it.\n",
    "- Rename the file as `Assignment-03-<your_name>_<your_surname>.ipynb`. For example if your name is Dipika Chopra then name the file as `Assignment-03-Dipika_Chopra.ipynb`.\n",
    "- Upload the solved notebook in the google drive location: https://drive.google.com/drive/folders/1gCOcK20aw9a2i3kMK0ccymYIXPqOrqkq?usp=sharing \n",
    "\n",
    "<h3><span style=\"color:red\"> Deadline: 20th May, 2025 </span></h3>"
   ]
  },
  {
   "cell_type": "markdown",
   "id": "dc6b90c7",
   "metadata": {},
   "source": [
    "Use the `population_by_county.csv` file in the folder to complete the tasks.\n",
    "\n",
    "**NOTE: TRY TO DO ALL THE TASKS IN ONE LINE OF PANDAS CODE.**"
   ]
  },
  {
   "cell_type": "code",
   "execution_count": 1,
   "id": "7e086eb8",
   "metadata": {},
   "outputs": [],
   "source": [
    "import pandas as pd"
   ]
  },
  {
   "cell_type": "markdown",
   "id": "791b5343",
   "metadata": {},
   "source": [
    "#### 1. Import pandas and read in the `population_by_county.csv` file into a dataframe called `pop`."
   ]
  },
  {
   "cell_type": "code",
   "execution_count": 3,
   "id": "ac53294a",
   "metadata": {},
   "outputs": [
    {
     "name": "stderr",
     "output_type": "stream",
     "text": [
      "<>:3: SyntaxWarning: invalid escape sequence '\\p'\n",
      "<>:3: SyntaxWarning: invalid escape sequence '\\p'\n",
      "C:\\Users\\Ganmax-pc\\AppData\\Local\\Temp\\ipykernel_19524\\1340015313.py:3: SyntaxWarning: invalid escape sequence '\\p'\n",
      "  pop=pd.read_csv(\".\\population_by_county.csv\")\n"
     ]
    },
    {
     "data": {
      "text/html": [
       "<div>\n",
       "<style scoped>\n",
       "    .dataframe tbody tr th:only-of-type {\n",
       "        vertical-align: middle;\n",
       "    }\n",
       "\n",
       "    .dataframe tbody tr th {\n",
       "        vertical-align: top;\n",
       "    }\n",
       "\n",
       "    .dataframe thead th {\n",
       "        text-align: right;\n",
       "    }\n",
       "</style>\n",
       "<table border=\"1\" class=\"dataframe\">\n",
       "  <thead>\n",
       "    <tr style=\"text-align: right;\">\n",
       "      <th></th>\n",
       "      <th>County</th>\n",
       "      <th>State</th>\n",
       "      <th>2010Census</th>\n",
       "      <th>2017PopEstimate</th>\n",
       "    </tr>\n",
       "  </thead>\n",
       "  <tbody>\n",
       "    <tr>\n",
       "      <th>0</th>\n",
       "      <td>Abbeville County</td>\n",
       "      <td>South Carolina</td>\n",
       "      <td>25417</td>\n",
       "      <td>24722</td>\n",
       "    </tr>\n",
       "    <tr>\n",
       "      <th>1</th>\n",
       "      <td>Acadia Parish</td>\n",
       "      <td>Louisiana</td>\n",
       "      <td>61773</td>\n",
       "      <td>62590</td>\n",
       "    </tr>\n",
       "    <tr>\n",
       "      <th>2</th>\n",
       "      <td>Accomack County</td>\n",
       "      <td>Virginia</td>\n",
       "      <td>33164</td>\n",
       "      <td>32545</td>\n",
       "    </tr>\n",
       "    <tr>\n",
       "      <th>3</th>\n",
       "      <td>Ada County</td>\n",
       "      <td>Idaho</td>\n",
       "      <td>392365</td>\n",
       "      <td>456849</td>\n",
       "    </tr>\n",
       "    <tr>\n",
       "      <th>4</th>\n",
       "      <td>Adair County</td>\n",
       "      <td>Iowa</td>\n",
       "      <td>7682</td>\n",
       "      <td>7054</td>\n",
       "    </tr>\n",
       "    <tr>\n",
       "      <th>...</th>\n",
       "      <td>...</td>\n",
       "      <td>...</td>\n",
       "      <td>...</td>\n",
       "      <td>...</td>\n",
       "    </tr>\n",
       "    <tr>\n",
       "      <th>3137</th>\n",
       "      <td>Yuma County</td>\n",
       "      <td>Arizona</td>\n",
       "      <td>195751</td>\n",
       "      <td>207534</td>\n",
       "    </tr>\n",
       "    <tr>\n",
       "      <th>3138</th>\n",
       "      <td>Yuma County</td>\n",
       "      <td>Colorado</td>\n",
       "      <td>10043</td>\n",
       "      <td>10075</td>\n",
       "    </tr>\n",
       "    <tr>\n",
       "      <th>3139</th>\n",
       "      <td>Zapata County</td>\n",
       "      <td>Texas</td>\n",
       "      <td>14018</td>\n",
       "      <td>14322</td>\n",
       "    </tr>\n",
       "    <tr>\n",
       "      <th>3140</th>\n",
       "      <td>Zavala County</td>\n",
       "      <td>Texas</td>\n",
       "      <td>11677</td>\n",
       "      <td>11948</td>\n",
       "    </tr>\n",
       "    <tr>\n",
       "      <th>3141</th>\n",
       "      <td>Ziebach County</td>\n",
       "      <td>South Dakota</td>\n",
       "      <td>2801</td>\n",
       "      <td>2756</td>\n",
       "    </tr>\n",
       "  </tbody>\n",
       "</table>\n",
       "<p>3142 rows × 4 columns</p>\n",
       "</div>"
      ],
      "text/plain": [
       "                County           State  2010Census  2017PopEstimate\n",
       "0     Abbeville County  South Carolina       25417            24722\n",
       "1        Acadia Parish       Louisiana       61773            62590\n",
       "2      Accomack County        Virginia       33164            32545\n",
       "3           Ada County           Idaho      392365           456849\n",
       "4         Adair County            Iowa        7682             7054\n",
       "...                ...             ...         ...              ...\n",
       "3137       Yuma County         Arizona      195751           207534\n",
       "3138       Yuma County        Colorado       10043            10075\n",
       "3139     Zapata County           Texas       14018            14322\n",
       "3140     Zavala County           Texas       11677            11948\n",
       "3141    Ziebach County    South Dakota        2801             2756\n",
       "\n",
       "[3142 rows x 4 columns]"
      ]
     },
     "execution_count": 3,
     "metadata": {},
     "output_type": "execute_result"
    }
   ],
   "source": [
    "# Write your code here\n",
    "\n",
    "pop=pd.read_csv(\".\\population_by_county.csv\")\n",
    "pop"
   ]
  },
  {
   "cell_type": "markdown",
   "id": "7c7b1f68",
   "metadata": {},
   "source": [
    "#### 2. Show the head of the dataframe, Also show top 8 rows of the dataframe using head"
   ]
  },
  {
   "cell_type": "code",
   "execution_count": 4,
   "id": "9f407fc5",
   "metadata": {},
   "outputs": [
    {
     "data": {
      "text/html": [
       "<div>\n",
       "<style scoped>\n",
       "    .dataframe tbody tr th:only-of-type {\n",
       "        vertical-align: middle;\n",
       "    }\n",
       "\n",
       "    .dataframe tbody tr th {\n",
       "        vertical-align: top;\n",
       "    }\n",
       "\n",
       "    .dataframe thead th {\n",
       "        text-align: right;\n",
       "    }\n",
       "</style>\n",
       "<table border=\"1\" class=\"dataframe\">\n",
       "  <thead>\n",
       "    <tr style=\"text-align: right;\">\n",
       "      <th></th>\n",
       "      <th>County</th>\n",
       "      <th>State</th>\n",
       "      <th>2010Census</th>\n",
       "      <th>2017PopEstimate</th>\n",
       "    </tr>\n",
       "  </thead>\n",
       "  <tbody>\n",
       "    <tr>\n",
       "      <th>0</th>\n",
       "      <td>Abbeville County</td>\n",
       "      <td>South Carolina</td>\n",
       "      <td>25417</td>\n",
       "      <td>24722</td>\n",
       "    </tr>\n",
       "    <tr>\n",
       "      <th>1</th>\n",
       "      <td>Acadia Parish</td>\n",
       "      <td>Louisiana</td>\n",
       "      <td>61773</td>\n",
       "      <td>62590</td>\n",
       "    </tr>\n",
       "    <tr>\n",
       "      <th>2</th>\n",
       "      <td>Accomack County</td>\n",
       "      <td>Virginia</td>\n",
       "      <td>33164</td>\n",
       "      <td>32545</td>\n",
       "    </tr>\n",
       "    <tr>\n",
       "      <th>3</th>\n",
       "      <td>Ada County</td>\n",
       "      <td>Idaho</td>\n",
       "      <td>392365</td>\n",
       "      <td>456849</td>\n",
       "    </tr>\n",
       "    <tr>\n",
       "      <th>4</th>\n",
       "      <td>Adair County</td>\n",
       "      <td>Iowa</td>\n",
       "      <td>7682</td>\n",
       "      <td>7054</td>\n",
       "    </tr>\n",
       "    <tr>\n",
       "      <th>5</th>\n",
       "      <td>Adair County</td>\n",
       "      <td>Kentucky</td>\n",
       "      <td>18656</td>\n",
       "      <td>19485</td>\n",
       "    </tr>\n",
       "    <tr>\n",
       "      <th>6</th>\n",
       "      <td>Adair County</td>\n",
       "      <td>Missouri</td>\n",
       "      <td>25607</td>\n",
       "      <td>25377</td>\n",
       "    </tr>\n",
       "    <tr>\n",
       "      <th>7</th>\n",
       "      <td>Adair County</td>\n",
       "      <td>Oklahoma</td>\n",
       "      <td>22683</td>\n",
       "      <td>21909</td>\n",
       "    </tr>\n",
       "  </tbody>\n",
       "</table>\n",
       "</div>"
      ],
      "text/plain": [
       "             County           State  2010Census  2017PopEstimate\n",
       "0  Abbeville County  South Carolina       25417            24722\n",
       "1     Acadia Parish       Louisiana       61773            62590\n",
       "2   Accomack County        Virginia       33164            32545\n",
       "3        Ada County           Idaho      392365           456849\n",
       "4      Adair County            Iowa        7682             7054\n",
       "5      Adair County        Kentucky       18656            19485\n",
       "6      Adair County        Missouri       25607            25377\n",
       "7      Adair County        Oklahoma       22683            21909"
      ]
     },
     "execution_count": 4,
     "metadata": {},
     "output_type": "execute_result"
    }
   ],
   "source": [
    "# Write your code here\n",
    "\n",
    "pop.head(8)"
   ]
  },
  {
   "cell_type": "markdown",
   "id": "53bee62b",
   "metadata": {},
   "source": [
    "#### 3. What are the column names?"
   ]
  },
  {
   "cell_type": "code",
   "execution_count": 30,
   "id": "67a4309a",
   "metadata": {},
   "outputs": [
    {
     "data": {
      "text/plain": [
       "Index(['County', 'State', '2010Census', '2017PopEstimate'], dtype='object')"
      ]
     },
     "execution_count": 30,
     "metadata": {},
     "output_type": "execute_result"
    }
   ],
   "source": [
    "# Write your code here\n",
    "\n",
    "pop.columns\n"
   ]
  },
  {
   "cell_type": "markdown",
   "id": "cd10e795",
   "metadata": {},
   "source": [
    "#### 4. How many States are represented in this data set?  \n",
    "<em>Note: the data includes the `District of Columbia`</em>"
   ]
  },
  {
   "cell_type": "code",
   "execution_count": 14,
   "id": "8eee15e3",
   "metadata": {},
   "outputs": [
    {
     "data": {
      "text/plain": [
       "3142"
      ]
     },
     "execution_count": 14,
     "metadata": {},
     "output_type": "execute_result"
    }
   ],
   "source": [
    "# Write your code here\n",
    "\n",
    "len(pop.State)\n",
    "#pop[pop['State'] == 'District of Columbia']"
   ]
  },
  {
   "cell_type": "markdown",
   "id": "fb592331",
   "metadata": {},
   "source": [
    "#### 5. Get a list or array of all the states in the data set."
   ]
  },
  {
   "cell_type": "code",
   "execution_count": 25,
   "id": "45e4706f",
   "metadata": {},
   "outputs": [
    {
     "data": {
      "text/plain": [
       "array(['South Carolina', 'Louisiana', 'Virginia', 'Idaho', 'Iowa',\n",
       "       'Kentucky', 'Missouri', 'Oklahoma', 'Colorado', 'Illinois',\n",
       "       'Indiana', 'Mississippi', 'Nebraska', 'North Dakota', 'Ohio',\n",
       "       'Pennsylvania', 'Washington', 'Wisconsin', 'Vermont', 'Minnesota',\n",
       "       'Florida', 'North Carolina', 'California', 'New York', 'Wyoming',\n",
       "       'Michigan', 'Alaska', 'Maryland', 'Kansas', 'Tennessee', 'Texas',\n",
       "       'Maine', 'Arizona', 'Georgia', 'Arkansas', 'New Jersey',\n",
       "       'South Dakota', 'Alabama', 'Oregon', 'West Virginia',\n",
       "       'Massachusetts', 'Utah', 'Montana', 'New Hampshire', 'New Mexico',\n",
       "       'Rhode Island', 'Nevada', 'District of Columbia', 'Connecticut',\n",
       "       'Hawaii', 'Delaware'], dtype=object)"
      ]
     },
     "execution_count": 25,
     "metadata": {},
     "output_type": "execute_result"
    }
   ],
   "source": [
    "# Write your code here\n",
    "\n",
    "arr=pop['State'].unique()\n",
    "arr"
   ]
  },
  {
   "cell_type": "markdown",
   "id": "b2cd09d6",
   "metadata": {},
   "source": [
    "#### 6. What are the five most common County names in the U.S.?"
   ]
  },
  {
   "cell_type": "code",
   "execution_count": 36,
   "id": "340f77c7",
   "metadata": {},
   "outputs": [
    {
     "data": {
      "text/plain": [
       "State\n",
       "Texas       254\n",
       "Georgia     159\n",
       "Virginia    133\n",
       "Kentucky    120\n",
       "Missouri    115\n",
       "Name: count, dtype: int64"
      ]
     },
     "execution_count": 36,
     "metadata": {},
     "output_type": "execute_result"
    }
   ],
   "source": [
    "# Write your code here\n",
    "\n",
    "pop1= pop['State'].value_counts()\n",
    "pop1.head(5)\n"
   ]
  },
  {
   "cell_type": "markdown",
   "id": "8ea0b0fd",
   "metadata": {},
   "source": [
    "#### 7. What are the top 5 most populated Counties according to the 2010 Census?"
   ]
  },
  {
   "cell_type": "code",
   "execution_count": 7,
   "id": "abcbf760",
   "metadata": {},
   "outputs": [
    {
     "data": {
      "text/plain": [
       "1713    Los Angeles County\n",
       "628            Cook County\n",
       "1209         Harris County\n",
       "1784       Maricopa County\n",
       "2501      San Diego County\n",
       "Name: County, dtype: object"
      ]
     },
     "execution_count": 7,
     "metadata": {},
     "output_type": "execute_result"
    }
   ],
   "source": [
    "# Write your code here\n",
    "populated=pop.sort_values(by='2010Census',ascending=False)\n",
    "#populated.head()\n",
    "populated.head()['County']\n"
   ]
  },
  {
   "cell_type": "markdown",
   "id": "eebde689",
   "metadata": {},
   "source": [
    "#### 8. What are the top 5 most populated States according to the 2010 Census?"
   ]
  },
  {
   "cell_type": "code",
   "execution_count": 58,
   "id": "a36522be",
   "metadata": {},
   "outputs": [
    {
     "data": {
      "text/plain": [
       "1713    California\n",
       "628       Illinois\n",
       "1209         Texas\n",
       "1784       Arizona\n",
       "2501    California\n",
       "Name: State, dtype: object"
      ]
     },
     "execution_count": 58,
     "metadata": {},
     "output_type": "execute_result"
    }
   ],
   "source": [
    "# Write your code here\n",
    "\n",
    "populated.head()['State']"
   ]
  },
  {
   "cell_type": "markdown",
   "id": "d31fdb1f",
   "metadata": {},
   "source": [
    "#### 9. How many Counties have 2010 populations greater than 1 million?"
   ]
  },
  {
   "cell_type": "code",
   "execution_count": null,
   "id": "1f56d38d",
   "metadata": {},
   "outputs": [
    {
     "data": {
      "text/plain": [
       "39"
      ]
     },
     "execution_count": 53,
     "metadata": {},
     "output_type": "execute_result"
    }
   ],
   "source": [
    "# Write your code here\n",
    "\n",
    "pop_greater_than_1m = pop[pop['2010Census']>1000000]\n",
    "len(pop_greater_than_1m) #gives no of rows with population > 1m"
   ]
  },
  {
   "cell_type": "code",
   "execution_count": null,
   "id": "93bbdcb9",
   "metadata": {},
   "outputs": [
    {
     "data": {
      "text/plain": [
       "County             38\n",
       "State              15\n",
       "2010Census         39\n",
       "2017PopEstimate    39\n",
       "dtype: int64"
      ]
     },
     "execution_count": 55,
     "metadata": {},
     "output_type": "execute_result"
    }
   ],
   "source": [
    "pop_greater_than_1m.nunique() # gives unique count of County with population > 1m\n"
   ]
  },
  {
   "cell_type": "markdown",
   "id": "a893d6d1",
   "metadata": {},
   "source": [
    "#### 10. How many Counties don't have the word \"County\" in their name?"
   ]
  },
  {
   "cell_type": "code",
   "execution_count": 61,
   "id": "54fc8189",
   "metadata": {},
   "outputs": [
    {
     "data": {
      "text/plain": [
       "135"
      ]
     },
     "execution_count": 61,
     "metadata": {},
     "output_type": "execute_result"
    }
   ],
   "source": [
    "# Write your code here\n",
    "\n",
    "new_pop=pop[~pop['County'].str.contains('County')]\n",
    "#new_pop\n",
    "len(new_pop)"
   ]
  },
  {
   "cell_type": "markdown",
   "id": "8d9438f6",
   "metadata": {},
   "source": [
    "#### 11. Add a column that calculates the percent change between the 2010 Census and the 2017 Population Estimate"
   ]
  },
  {
   "cell_type": "code",
   "execution_count": 36,
   "id": "2177f110",
   "metadata": {},
   "outputs": [
    {
     "data": {
      "text/html": [
       "<div>\n",
       "<style scoped>\n",
       "    .dataframe tbody tr th:only-of-type {\n",
       "        vertical-align: middle;\n",
       "    }\n",
       "\n",
       "    .dataframe tbody tr th {\n",
       "        vertical-align: top;\n",
       "    }\n",
       "\n",
       "    .dataframe thead th {\n",
       "        text-align: right;\n",
       "    }\n",
       "</style>\n",
       "<table border=\"1\" class=\"dataframe\">\n",
       "  <thead>\n",
       "    <tr style=\"text-align: right;\">\n",
       "      <th></th>\n",
       "      <th>County</th>\n",
       "      <th>State</th>\n",
       "      <th>2010Census</th>\n",
       "      <th>2017PopEstimate</th>\n",
       "      <th>PercentageDiff</th>\n",
       "    </tr>\n",
       "  </thead>\n",
       "  <tbody>\n",
       "    <tr>\n",
       "      <th>0</th>\n",
       "      <td>Abbeville County</td>\n",
       "      <td>South Carolina</td>\n",
       "      <td>25417</td>\n",
       "      <td>24722</td>\n",
       "      <td>-2.734390</td>\n",
       "    </tr>\n",
       "    <tr>\n",
       "      <th>1</th>\n",
       "      <td>Acadia Parish</td>\n",
       "      <td>Louisiana</td>\n",
       "      <td>61773</td>\n",
       "      <td>62590</td>\n",
       "      <td>1.322584</td>\n",
       "    </tr>\n",
       "    <tr>\n",
       "      <th>2</th>\n",
       "      <td>Accomack County</td>\n",
       "      <td>Virginia</td>\n",
       "      <td>33164</td>\n",
       "      <td>32545</td>\n",
       "      <td>-1.866482</td>\n",
       "    </tr>\n",
       "    <tr>\n",
       "      <th>3</th>\n",
       "      <td>Ada County</td>\n",
       "      <td>Idaho</td>\n",
       "      <td>392365</td>\n",
       "      <td>456849</td>\n",
       "      <td>16.434697</td>\n",
       "    </tr>\n",
       "    <tr>\n",
       "      <th>4</th>\n",
       "      <td>Adair County</td>\n",
       "      <td>Iowa</td>\n",
       "      <td>7682</td>\n",
       "      <td>7054</td>\n",
       "      <td>-8.174954</td>\n",
       "    </tr>\n",
       "    <tr>\n",
       "      <th>...</th>\n",
       "      <td>...</td>\n",
       "      <td>...</td>\n",
       "      <td>...</td>\n",
       "      <td>...</td>\n",
       "      <td>...</td>\n",
       "    </tr>\n",
       "    <tr>\n",
       "      <th>3137</th>\n",
       "      <td>Yuma County</td>\n",
       "      <td>Arizona</td>\n",
       "      <td>195751</td>\n",
       "      <td>207534</td>\n",
       "      <td>6.019382</td>\n",
       "    </tr>\n",
       "    <tr>\n",
       "      <th>3138</th>\n",
       "      <td>Yuma County</td>\n",
       "      <td>Colorado</td>\n",
       "      <td>10043</td>\n",
       "      <td>10075</td>\n",
       "      <td>0.318630</td>\n",
       "    </tr>\n",
       "    <tr>\n",
       "      <th>3139</th>\n",
       "      <td>Zapata County</td>\n",
       "      <td>Texas</td>\n",
       "      <td>14018</td>\n",
       "      <td>14322</td>\n",
       "      <td>2.168640</td>\n",
       "    </tr>\n",
       "    <tr>\n",
       "      <th>3140</th>\n",
       "      <td>Zavala County</td>\n",
       "      <td>Texas</td>\n",
       "      <td>11677</td>\n",
       "      <td>11948</td>\n",
       "      <td>2.320802</td>\n",
       "    </tr>\n",
       "    <tr>\n",
       "      <th>3141</th>\n",
       "      <td>Ziebach County</td>\n",
       "      <td>South Dakota</td>\n",
       "      <td>2801</td>\n",
       "      <td>2756</td>\n",
       "      <td>-1.606569</td>\n",
       "    </tr>\n",
       "  </tbody>\n",
       "</table>\n",
       "<p>3142 rows × 5 columns</p>\n",
       "</div>"
      ],
      "text/plain": [
       "                County           State  2010Census  2017PopEstimate  \\\n",
       "0     Abbeville County  South Carolina       25417            24722   \n",
       "1        Acadia Parish       Louisiana       61773            62590   \n",
       "2      Accomack County        Virginia       33164            32545   \n",
       "3           Ada County           Idaho      392365           456849   \n",
       "4         Adair County            Iowa        7682             7054   \n",
       "...                ...             ...         ...              ...   \n",
       "3137       Yuma County         Arizona      195751           207534   \n",
       "3138       Yuma County        Colorado       10043            10075   \n",
       "3139     Zapata County           Texas       14018            14322   \n",
       "3140     Zavala County           Texas       11677            11948   \n",
       "3141    Ziebach County    South Dakota        2801             2756   \n",
       "\n",
       "      PercentageDiff  \n",
       "0          -2.734390  \n",
       "1           1.322584  \n",
       "2          -1.866482  \n",
       "3          16.434697  \n",
       "4          -8.174954  \n",
       "...              ...  \n",
       "3137        6.019382  \n",
       "3138        0.318630  \n",
       "3139        2.168640  \n",
       "3140        2.320802  \n",
       "3141       -1.606569  \n",
       "\n",
       "[3142 rows x 5 columns]"
      ]
     },
     "execution_count": 36,
     "metadata": {},
     "output_type": "execute_result"
    }
   ],
   "source": [
    "# Write your code here\n",
    "\n",
    "def pct_change(col1,col2):\n",
    "    return((col2-col1)/col1) * 100\n",
    "\n",
    "pop_copy= pop.copy()\n",
    "\n",
    "pop_copy['PercentageDiff']= pct_change(pop_copy['2010Census'],pop_copy['2017PopEstimate'])\n",
    "pop_copy"
   ]
  },
  {
   "cell_type": "markdown",
   "id": "fdf36e49",
   "metadata": {},
   "source": [
    "#### 12. What States have the highest estimated percent change between the 2010 Census and the 2017 Population Estimate?\n",
    "\n",
    "**NOTE:** This will take several lines of code, as it requires a recalculation of Percent Change."
   ]
  },
  {
   "cell_type": "code",
   "execution_count": null,
   "id": "3d102190",
   "metadata": {},
   "outputs": [
    {
     "data": {
      "text/html": [
       "<div>\n",
       "<style scoped>\n",
       "    .dataframe tbody tr th:only-of-type {\n",
       "        vertical-align: middle;\n",
       "    }\n",
       "\n",
       "    .dataframe tbody tr th {\n",
       "        vertical-align: top;\n",
       "    }\n",
       "\n",
       "    .dataframe thead th {\n",
       "        text-align: right;\n",
       "    }\n",
       "</style>\n",
       "<table border=\"1\" class=\"dataframe\">\n",
       "  <thead>\n",
       "    <tr style=\"text-align: right;\">\n",
       "      <th></th>\n",
       "      <th>County</th>\n",
       "      <th>State</th>\n",
       "      <th>2010Census</th>\n",
       "      <th>2017PopEstimate</th>\n",
       "      <th>PercentageDiff</th>\n",
       "    </tr>\n",
       "  </thead>\n",
       "  <tbody>\n",
       "    <tr>\n",
       "      <th>1861</th>\n",
       "      <td>McKenzie County</td>\n",
       "      <td>North Dakota</td>\n",
       "      <td>6360</td>\n",
       "      <td>12724</td>\n",
       "      <td>100.062893</td>\n",
       "    </tr>\n",
       "    <tr>\n",
       "      <th>1720</th>\n",
       "      <td>Loving County</td>\n",
       "      <td>Texas</td>\n",
       "      <td>82</td>\n",
       "      <td>134</td>\n",
       "      <td>63.414634</td>\n",
       "    </tr>\n",
       "    <tr>\n",
       "      <th>3060</th>\n",
       "      <td>Williams County</td>\n",
       "      <td>North Dakota</td>\n",
       "      <td>22398</td>\n",
       "      <td>33349</td>\n",
       "      <td>48.892758</td>\n",
       "    </tr>\n",
       "    <tr>\n",
       "      <th>1230</th>\n",
       "      <td>Hays County</td>\n",
       "      <td>Texas</td>\n",
       "      <td>157107</td>\n",
       "      <td>214485</td>\n",
       "      <td>36.521606</td>\n",
       "    </tr>\n",
       "    <tr>\n",
       "      <th>2944</th>\n",
       "      <td>Wasatch County</td>\n",
       "      <td>Utah</td>\n",
       "      <td>23530</td>\n",
       "      <td>32106</td>\n",
       "      <td>36.447089</td>\n",
       "    </tr>\n",
       "    <tr>\n",
       "      <th>2730</th>\n",
       "      <td>Sumter County</td>\n",
       "      <td>Florida</td>\n",
       "      <td>93420</td>\n",
       "      <td>125165</td>\n",
       "      <td>33.980946</td>\n",
       "    </tr>\n",
       "    <tr>\n",
       "      <th>2023</th>\n",
       "      <td>Mountrail County</td>\n",
       "      <td>North Dakota</td>\n",
       "      <td>7673</td>\n",
       "      <td>10265</td>\n",
       "      <td>33.780790</td>\n",
       "    </tr>\n",
       "    <tr>\n",
       "      <th>710</th>\n",
       "      <td>Dallas County</td>\n",
       "      <td>Iowa</td>\n",
       "      <td>66135</td>\n",
       "      <td>87235</td>\n",
       "      <td>31.904438</td>\n",
       "    </tr>\n",
       "    <tr>\n",
       "      <th>1480</th>\n",
       "      <td>Kendall County</td>\n",
       "      <td>Texas</td>\n",
       "      <td>33410</td>\n",
       "      <td>44026</td>\n",
       "      <td>31.774918</td>\n",
       "    </tr>\n",
       "    <tr>\n",
       "      <th>1709</th>\n",
       "      <td>Long County</td>\n",
       "      <td>Georgia</td>\n",
       "      <td>14464</td>\n",
       "      <td>19014</td>\n",
       "      <td>31.457412</td>\n",
       "    </tr>\n",
       "  </tbody>\n",
       "</table>\n",
       "</div>"
      ],
      "text/plain": [
       "                County         State  2010Census  2017PopEstimate  \\\n",
       "1861   McKenzie County  North Dakota        6360            12724   \n",
       "1720     Loving County         Texas          82              134   \n",
       "3060   Williams County  North Dakota       22398            33349   \n",
       "1230       Hays County         Texas      157107           214485   \n",
       "2944    Wasatch County          Utah       23530            32106   \n",
       "2730     Sumter County       Florida       93420           125165   \n",
       "2023  Mountrail County  North Dakota        7673            10265   \n",
       "710      Dallas County          Iowa       66135            87235   \n",
       "1480    Kendall County         Texas       33410            44026   \n",
       "1709       Long County       Georgia       14464            19014   \n",
       "\n",
       "      PercentageDiff  \n",
       "1861      100.062893  \n",
       "1720       63.414634  \n",
       "3060       48.892758  \n",
       "1230       36.521606  \n",
       "2944       36.447089  \n",
       "2730       33.980946  \n",
       "2023       33.780790  \n",
       "710        31.904438  \n",
       "1480       31.774918  \n",
       "1709       31.457412  "
      ]
     },
     "execution_count": 48,
     "metadata": {},
     "output_type": "execute_result"
    }
   ],
   "source": [
    "# Write your code here\n",
    "# used dataframe pop_copy created in ques.11\n",
    "high_estimate =pop_copy.sort_values(by='PercentageDiff',ascending=False)\n",
    "high_estimate.head(10)\n"
   ]
  },
  {
   "cell_type": "code",
   "execution_count": null,
   "id": "b264b2d1",
   "metadata": {},
   "outputs": [
    {
     "data": {
      "text/plain": [
       "array(['North Dakota', 'Texas', 'Utah', 'Florida', 'Iowa', 'Georgia'],\n",
       "      dtype=object)"
      ]
     },
     "execution_count": 49,
     "metadata": {},
     "output_type": "execute_result"
    }
   ],
   "source": [
    "high_estimate.head(10)['State'].unique() # gives top States with high percentage change."
   ]
  },
  {
   "cell_type": "code",
   "execution_count": null,
   "id": "21c6bf85",
   "metadata": {},
   "outputs": [],
   "source": []
  }
 ],
 "metadata": {
  "kernelspec": {
   "display_name": "Python 3",
   "language": "python",
   "name": "python3"
  },
  "language_info": {
   "codemirror_mode": {
    "name": "ipython",
    "version": 3
   },
   "file_extension": ".py",
   "mimetype": "text/x-python",
   "name": "python",
   "nbconvert_exporter": "python",
   "pygments_lexer": "ipython3",
   "version": "3.12.9"
  }
 },
 "nbformat": 4,
 "nbformat_minor": 5
}
